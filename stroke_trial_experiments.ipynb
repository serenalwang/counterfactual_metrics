{
 "cells": [
  {
   "cell_type": "markdown",
   "metadata": {},
   "source": [
    "# Stroke Trial experiments\n",
    "Code for experiments on the International Stroke Trial dataset.\n",
    "\n",
    "Data can be downloaded at https://datashare.ed.ac.uk/handle/10283/124"
   ]
  },
  {
   "cell_type": "code",
   "execution_count": 3,
   "metadata": {},
   "outputs": [],
   "source": [
    "import pandas as pd\n",
    "import numpy as np\n",
    "import sklearn\n",
    "from sklearn.linear_model import LinearRegression\n",
    "import matplotlib.pyplot as plt\n",
    "import matplotlib\n",
    "matplotlib.rcParams['mathtext.fontset'] = 'cm'\n",
    "matplotlib.rcParams['font.family'] = 'STIXGeneral'"
   ]
  },
  {
   "cell_type": "markdown",
   "metadata": {},
   "source": [
    "# Preprocess data"
   ]
  },
  {
   "cell_type": "code",
   "execution_count": 4,
   "metadata": {
    "scrolled": true
   },
   "outputs": [
    {
     "name": "stderr",
     "output_type": "stream",
     "text": [
      "/Library/Frameworks/Python.framework/Versions/3.7/lib/python3.7/site-packages/IPython/core/interactiveshell.py:3331: DtypeWarning: Columns (31) have mixed types.Specify dtype option on import or set low_memory=False.\n",
      "  exec(code_obj, self.user_global_ns, self.user_ns)\n"
     ]
    }
   ],
   "source": [
    "df = pd.read_csv(\"data/ist/IST_corrected.csv\", index_col=False, encoding_errors='replace')"
   ]
  },
  {
   "cell_type": "code",
   "execution_count": 5,
   "metadata": {},
   "outputs": [],
   "source": [
    "# Filter missing outcomes\n",
    "df = df[df['OCCODE'] < 5]\n",
    "\n",
    "# Filter out no aspirin allocated\n",
    "df = df[df['RXASP'] == 'Y']\n",
    "\n",
    "# Filter out low heparin\n",
    "df = df[df['RXHEP'] != 'L']"
   ]
  },
  {
   "cell_type": "code",
   "execution_count": 6,
   "metadata": {},
   "outputs": [],
   "source": [
    "# Remap the treatments to 0,1\n",
    "df['T'] = (((df['RXHEP'] == 'H').astype(int)) + ((df['RXHEP'] == 'M').astype(int))) * ((df['RXASP'] == 'Y').astype(int)) "
   ]
  },
  {
   "cell_type": "markdown",
   "metadata": {},
   "source": [
    "## Create scalarized outcome variable\n",
    "Scalarized score: Y = -2I[death] - I[recurrent stroke]-0.5I[pulmonary embolism or intracranial bleeding]\n",
    "-0.5I[other side effects] + 2I[full recovery at 6 months] + I[discharge within 14 days]"
   ]
  },
  {
   "cell_type": "code",
   "execution_count": 7,
   "metadata": {},
   "outputs": [
    {
     "data": {
      "text/plain": [
       "0.21640969162995594"
      ]
     },
     "execution_count": 7,
     "metadata": {},
     "output_type": "execute_result"
    }
   ],
   "source": [
    "df['death'] = (df['OCCODE'] == 1).astype(int)\n",
    "df['death'].mean()"
   ]
  },
  {
   "cell_type": "code",
   "execution_count": 8,
   "metadata": {},
   "outputs": [
    {
     "data": {
      "text/plain": [
       "0.040198237885462555"
      ]
     },
     "execution_count": 8,
     "metadata": {},
     "output_type": "execute_result"
    }
   ],
   "source": [
    "df['recurrent_stroke'] = df['STRK14']\n",
    "df['recurrent_stroke'].mean()"
   ]
  },
  {
   "cell_type": "code",
   "execution_count": 9,
   "metadata": {},
   "outputs": [
    {
     "data": {
      "text/plain": [
       "0.015418502202643172"
      ]
     },
     "execution_count": 9,
     "metadata": {},
     "output_type": "execute_result"
    }
   ],
   "source": [
    "df['emb_bleeding'] = df['PE14'] + df['H14']\n",
    "df['emb_bleeding'].mean()"
   ]
  },
  {
   "cell_type": "code",
   "execution_count": 10,
   "metadata": {},
   "outputs": [
    {
     "data": {
      "text/plain": [
       "0.04377753303964758"
      ]
     },
     "execution_count": 10,
     "metadata": {},
     "output_type": "execute_result"
    }
   ],
   "source": [
    "df['other_side_effects'] = df['HTI14'] + df['DVT14'] + df['TRAN14'] + df['NCB14']\n",
    "df['other_side_effects'] = (df['other_side_effects'] > 0).astype(int)\n",
    "df['other_side_effects'].mean()"
   ]
  },
  {
   "cell_type": "code",
   "execution_count": 11,
   "metadata": {},
   "outputs": [
    {
     "data": {
      "text/plain": [
       "0.17373348017621146"
      ]
     },
     "execution_count": 11,
     "metadata": {},
     "output_type": "execute_result"
    }
   ],
   "source": [
    "df['recovery'] = (df['OCCODE'] == 4).astype(int)\n",
    "df['recovery'].mean()"
   ]
  },
  {
   "cell_type": "code",
   "execution_count": 12,
   "metadata": {},
   "outputs": [
    {
     "data": {
      "text/plain": [
       "0.5357929515418502"
      ]
     },
     "execution_count": 12,
     "metadata": {},
     "output_type": "execute_result"
    }
   ],
   "source": [
    "df['discharge'] = (df['DALIVE'] == 'Y').astype(int) \n",
    "df['discharge'].mean()"
   ]
  },
  {
   "cell_type": "code",
   "execution_count": 13,
   "metadata": {},
   "outputs": [],
   "source": [
    "df['Y'] = -2*df['death'] - df['recurrent_stroke'] - 0.5*df['emb_bleeding'] - 0.5*df['other_side_effects'] + 2*df['recovery'] + df['discharge']"
   ]
  },
  {
   "cell_type": "markdown",
   "metadata": {},
   "source": [
    "## Preprocess features"
   ]
  },
  {
   "cell_type": "code",
   "execution_count": 14,
   "metadata": {},
   "outputs": [],
   "source": [
    "x_columns = ['RDELAY', 'RCONSC', 'SEX', 'AGE', 'RSLEEP', 'RATRIAL', 'RCT',\n",
    " 'RVISINF', 'RHEP24', 'RASP3', 'RSBP', 'RDEF1', 'RDEF2', 'RDEF3', 'RDEF4', 'RDEF5',\n",
    " 'RDEF6', 'RDEF7', 'RDEF8', 'STYPE']"
   ]
  },
  {
   "cell_type": "code",
   "execution_count": 15,
   "metadata": {},
   "outputs": [],
   "source": [
    "# Filter down to just relevant columns\n",
    "df = df[['Y', 'T'] + x_columns]"
   ]
  },
  {
   "cell_type": "code",
   "execution_count": 16,
   "metadata": {},
   "outputs": [],
   "source": [
    "# one-hot encode categorical features\n",
    "df = pd.get_dummies(df, dummy_na=True)"
   ]
  },
  {
   "cell_type": "code",
   "execution_count": 17,
   "metadata": {},
   "outputs": [],
   "source": [
    "df = df.fillna(0)"
   ]
  },
  {
   "cell_type": "markdown",
   "metadata": {},
   "source": [
    "# Fit model"
   ]
  },
  {
   "cell_type": "markdown",
   "metadata": {},
   "source": [
    "We assume the outcome model is linear with interaction terms between the features and treatment."
   ]
  },
  {
   "cell_type": "code",
   "execution_count": 41,
   "metadata": {},
   "outputs": [],
   "source": [
    "class OutcomeModel:\n",
    "    \"\"\"Fits an outcome model.\"\"\"\n",
    "    \n",
    "    def __init__(self, t_column, x_columns, y_column):\n",
    "        self.t_column = t_column\n",
    "        self.x_columns = x_columns\n",
    "        self.y_column = y_column\n",
    "    \n",
    "    def fit_outcome(self, df_input):\n",
    "        \"\"\"Fits outcome model E[Y | X = x, T = t] using df_input.\"\"\"\n",
    "        raise(\"Not Implemented\")\n",
    "    \n",
    "    def predict_Ys(self, df_input):\n",
    "        \"\"\"Returns a numpy array of predictions for each row in df_input.\"\"\"\n",
    "        raise(\"Not Implemented\")\n",
    "\n",
    "class OutcomeModelLinear(OutcomeModel):\n",
    "    \"\"\"Fits a linear model with interaction terms.\"\"\"\n",
    "    \n",
    "    def __init__(self, t_column, x_columns, y_column):\n",
    "        super().__init__(t_column, x_columns, y_column)\n",
    "    \n",
    "    def get_input_columns(self, df_input, deep_copy=False):\n",
    "        inputs = df_input[[self.t_column] + self.x_columns].copy(deep=deep_copy)\n",
    "        for x_column in self.x_columns:\n",
    "            inputs[x_column + '*T'] = inputs[x_column] * inputs[self.t_column]\n",
    "        return inputs\n",
    "    \n",
    "    def get_target_column(self, df_input):\n",
    "        # Transforms y column values from -1,1 to 0,1. \n",
    "        return df_input[self.y_column]\n",
    "    \n",
    "    def fit_outcome(self, df_input):\n",
    "        \"\"\"Fits logistic regression model on Y given X, T.\n",
    "        \n",
    "        If update_internal is True, updates internal outcome model.\n",
    "        \n",
    "        \"\"\"\n",
    "        inputs = self.get_input_columns(df_input)\n",
    "        target = self.get_target_column(df_input)\n",
    "        clf_outcome = LinearRegression().fit(inputs, target)     \n",
    "        self.clf_outcome = clf_outcome\n",
    "        self.print_metrics(df_input)\n",
    "        return clf_outcome\n",
    "    \n",
    "    def print_metrics(self, df_input):\n",
    "        y_true = self.get_target_column(df_input)\n",
    "        inputs = self.get_input_columns(df_input)\n",
    "        print(\"R^2 for outcome model: %f\" % self.clf_outcome.score(inputs, y_true))\n",
    "        y_pred = self.predict_Ys(df_input)\n",
    "        mse = sklearn.metrics.mean_squared_error(y_true=y_true, y_pred=y_pred)\n",
    "        print(\"RMSE for outcome model: %f\" % np.sqrt(mse))\n",
    "        print('Coefficients for outcome model:', self.clf_outcome.coef_)\n",
    "        \n",
    "    def predict_Ys(self, df_input):\n",
    "        \"\"\"Predicts outcome Y for given df_input.\n",
    "        \n",
    "        \"\"\"\n",
    "        inputs = self.get_input_columns(df_input)\n",
    "        return self.clf_outcome.predict(inputs)\n",
    "        \n",
    "    def predict_mu_0s(self, df_input):\n",
    "        \"\"\"Returns a numpy array of mu_0(x) values for each row in df_input.\n",
    "        \"\"\"\n",
    "        df_input_cf = df_input.copy(deep=True)\n",
    "        df_input_cf['T'] = 0\n",
    "        Y_means = self.predict_Ys(df_input_cf)\n",
    "        return Y_means\n",
    "    \n",
    "    def predict_mu_0s_marginal(self, df_input, df_train, x_obs):\n",
    "        \"\"\"Returns a numpy array of mu_0(x) values for each row in df_input.\n",
    "        \n",
    "        if cols_to_use is None, then uses all columns. Otherwise, outputs average mu_0s over cols_to_use.\n",
    "        For each row i in df_input, outputs\n",
    "            E[E[Y(0) | x_obs, x_columns - x_obs] | x_obs = x_obs_i] = E_{df_train}[mu_0 | x_obs = x_obs_i].\n",
    "        For each input row an average is taken over the training dataset, df_train.\n",
    "        \"\"\" \n",
    "        results = []\n",
    "        # If x_obs is none or empty\n",
    "        if not x_obs:\n",
    "            # Get average value for the row over df_train.\n",
    "            df_filtered = df_train\n",
    "            # Evaluate mu_0\n",
    "            mu_0s_filtered = self.predict_mu_0s(df_filtered)\n",
    "            mu_0_marg = mu_0s_filtered.mean()\n",
    "            results = [mu_0_marg] * len(df_input)\n",
    "        else:\n",
    "            mu_0s_predicted = self.predict_mu_0s(df_train)\n",
    "            df_train['mu_0'] = mu_0s_predicted\n",
    "            grouped = df_train.groupby(x_obs).mean()\n",
    "            print(grouped['mu_0'])\n",
    "            mu_0_map = grouped['mu_0']\n",
    "            # Apply grouped results to input df\n",
    "            for _, row in df_input.iterrows():\n",
    "                # Get correct row\n",
    "                if len(x_obs) > 1:\n",
    "                    mu_0_result = mu_0_map[tuple(row[x_obs].values)]\n",
    "                else:\n",
    "                    mu_0_result = mu_0_map[row[x_obs].values[0]]\n",
    "                results.append(mu_0_result)\n",
    "        return np.array(results)\n",
    "    \n",
    "    def predict_mu_1s(self, df_input):\n",
    "        \"\"\"Returns a numpy array of mu_1(x) values for each row in df_input.\"\"\"\n",
    "        df_input_cf = df_input.copy(deep=True)\n",
    "        df_input_cf['T'] = 1\n",
    "        Y_means = self.predict_Ys(df_input_cf)\n",
    "        return Y_means\n"
   ]
  },
  {
   "cell_type": "code",
   "execution_count": 19,
   "metadata": {},
   "outputs": [],
   "source": [
    "t_column = 'T'\n",
    "y_column = 'Y'\n",
    "x_columns = list(df.columns)\n",
    "x_columns.remove(t_column)\n",
    "x_columns.remove(y_column)"
   ]
  },
  {
   "cell_type": "code",
   "execution_count": 20,
   "metadata": {},
   "outputs": [],
   "source": [
    "outcome_model = OutcomeModelLinear(t_column, x_columns, y_column)"
   ]
  },
  {
   "cell_type": "code",
   "execution_count": 21,
   "metadata": {
    "scrolled": true
   },
   "outputs": [
    {
     "name": "stdout",
     "output_type": "stream",
     "text": [
      "R^2 for outcome model: 0.269755\n",
      "RMSE for outcome model: 1.346663\n",
      "Coefficients for outcome model: [ 4.51884395e-02  9.31945716e-05 -2.22622144e-02  1.67717726e-03\n",
      "  7.89154197e-03  6.16550714e-01 -6.24442256e-01  1.93543098e-14\n",
      " -3.65338612e-02  3.65338612e-02  3.99680289e-15  1.27643454e-03\n",
      " -1.27643454e-03  2.52228793e-15  1.28928602e-01 -8.62923965e-02\n",
      " -4.26362058e-02 -1.07172712e-01  1.07172712e-01 -6.16173779e-15\n",
      "  1.08424275e-01 -1.08424275e-01  7.28583860e-17 -4.50897729e-02\n",
      "  9.50264006e-02 -4.99366277e-02  3.37954975e-02  8.84070826e-03\n",
      " -4.26362058e-02 -2.58614432e-01  2.27632265e-01  3.09821671e-02\n",
      "  4.71844785e-16  4.06343208e-01 -8.39661828e-02 -3.22377026e-01\n",
      " -2.22044605e-16 -1.27070243e-01  2.65775517e-01 -1.38705274e-01\n",
      " -3.33066907e-16 -2.88573327e-01  2.15021016e-01  7.35523109e-02\n",
      "  2.35922393e-16 -7.66470724e-02  1.14457823e-01 -3.78107503e-02\n",
      "  3.05311332e-16 -1.61068971e-01  2.19015034e-01 -5.79460630e-02\n",
      "  0.00000000e+00 -1.31829152e-01  1.48100876e-03  1.30348143e-01\n",
      " -1.94289029e-16  6.20187131e-02  4.17105877e-02 -1.03729301e-01\n",
      " -1.11022302e-16  1.23739875e-01  1.96718720e-01  2.54729313e-02\n",
      " -2.50464482e-01 -9.54670444e-02 -5.55111512e-17  3.11245673e-03\n",
      " -9.67125521e-03 -4.90220897e-05  8.62334689e-03  2.15815647e-01\n",
      " -1.79250555e-01  0.00000000e+00  7.67401602e-02 -3.15517208e-02\n",
      "  0.00000000e+00 -2.66648896e-02  7.18533291e-02  0.00000000e+00\n",
      " -3.99137508e-02  8.73462217e-02 -2.24403144e-03  1.50900298e-02\n",
      "  3.00984096e-02  0.00000000e+00  3.75165980e-03  4.14367797e-02\n",
      "  0.00000000e+00  1.29316382e-01 -1.04801652e-01  2.06737088e-02\n",
      " -4.91203463e-02  9.65528172e-02 -2.24403144e-03  5.07409906e-01\n",
      " -2.55507473e-01 -2.06713993e-01  0.00000000e+00 -2.32233778e-01\n",
      "  8.61695590e-02  1.91252658e-01  0.00000000e+00  1.55853674e-02\n",
      "  3.46527322e-02 -5.04966020e-03  0.00000000e+00  2.23581116e-01\n",
      " -1.10652965e-01 -6.77397117e-02  0.00000000e+00 -2.57986810e-02\n",
      "  1.27655757e-01 -5.66686368e-02  0.00000000e+00  9.10952092e-02\n",
      " -5.77574295e-02  1.18506598e-02  0.00000000e+00  3.28812593e-01\n",
      "  2.95643250e-01 -5.79267404e-01  0.00000000e+00  5.33277525e-02\n",
      "  4.85867132e-02 -5.67260262e-02  0.00000000e+00 -2.07400631e-01\n",
      " -2.14556029e-01 -1.86582229e-01  7.41657113e-01 -8.79297848e-02\n",
      "  0.00000000e+00]\n"
     ]
    },
    {
     "data": {
      "text/plain": [
       "LinearRegression()"
      ]
     },
     "execution_count": 21,
     "metadata": {},
     "output_type": "execute_result"
    }
   ],
   "source": [
    "outcome_model.fit_outcome(df)"
   ]
  },
  {
   "cell_type": "markdown",
   "metadata": {},
   "source": [
    "# Calculate regrets"
   ]
  },
  {
   "cell_type": "code",
   "execution_count": 22,
   "metadata": {},
   "outputs": [],
   "source": [
    "mu_0s = outcome_model.predict_mu_0s(df)"
   ]
  },
  {
   "cell_type": "code",
   "execution_count": 23,
   "metadata": {},
   "outputs": [],
   "source": [
    "mu_1s = outcome_model.predict_mu_1s(df)"
   ]
  },
  {
   "cell_type": "code",
   "execution_count": 26,
   "metadata": {},
   "outputs": [
    {
     "data": {
      "text/plain": [
       "-0.16154740035064136"
      ]
     },
     "execution_count": 26,
     "metadata": {},
     "output_type": "execute_result"
    }
   ],
   "source": [
    "# ATE\n",
    "mu_1s.mean() - mu_0s.mean()"
   ]
  },
  {
   "cell_type": "code",
   "execution_count": 27,
   "metadata": {},
   "outputs": [
    {
     "name": "stdout",
     "output_type": "stream",
     "text": [
      "Number of units where treatment would be bad: 1360\n"
     ]
    }
   ],
   "source": [
    "print(\"Number of units where treatment would be good: %d\" % (mu_1s - mu_0s > 0).sum())"
   ]
  },
  {
   "cell_type": "code",
   "execution_count": 40,
   "metadata": {},
   "outputs": [
    {
     "name": "stdout",
     "output_type": "stream",
     "text": [
      "Number of units where treatment would be bad: 5904\n"
     ]
    }
   ],
   "source": [
    "print(\"Number of units where treatment would be bad: %d\" % (mu_1s - mu_0s < 0).sum())"
   ]
  },
  {
   "cell_type": "code",
   "execution_count": 29,
   "metadata": {
    "scrolled": true
   },
   "outputs": [
    {
     "name": "stdout",
     "output_type": "stream",
     "text": [
      "Optimal utility: 0.025186\n",
      "Optimal probability of treatment: 0.187225\n"
     ]
    }
   ],
   "source": [
    "T_OPT = (mu_1s > mu_0s).astype(int)\n",
    "V_OPT = ((mu_1s - mu_0s)* T_OPT).mean()\n",
    "print(\"Optimal utility: %f\" % V_OPT)\n",
    "print(\"Optimal probability of treatment: %f\" % T_OPT.mean())"
   ]
  },
  {
   "cell_type": "code",
   "execution_count": 30,
   "metadata": {
    "scrolled": true
   },
   "outputs": [
    {
     "name": "stdout",
     "output_type": "stream",
     "text": [
      "ATO utility: 0.000041, ATO regret: 0.025145\n",
      "ATO probability of treatment: 0.000138\n"
     ]
    }
   ],
   "source": [
    "# ATO reward:\n",
    "T_ATO = (mu_1s == mu_1s.max()).astype(int)\n",
    "V_ATO = ((mu_1s - mu_0s) * T_ATO).mean()\n",
    "R_ATO = V_OPT - V_ATO\n",
    "print(\"ATO utility: %f, ATO regret: %f\" % (V_ATO, R_ATO))\n",
    "print(\"ATO probability of treatment: %f\" % T_ATO.mean())"
   ]
  },
  {
   "cell_type": "code",
   "execution_count": 31,
   "metadata": {},
   "outputs": [
    {
     "name": "stdout",
     "output_type": "stream",
     "text": [
      "TO utility: -0.082775, TO regret: 0.107961\n",
      "TO probability of treatment: 0.668915\n"
     ]
    }
   ],
   "source": [
    "# Total treated outcome reward: \n",
    "T_TO = (mu_1s > 0).astype(int)\n",
    "V_TO = ((mu_1s - mu_0s) * T_TO).mean()\n",
    "R_TO = V_OPT - V_TO\n",
    "print(\"TO utility: %f, TO regret: %f\" % (V_TO, R_TO))\n",
    "print(\"TO probability of treatment: %f\" % T_TO.mean())"
   ]
  },
  {
   "cell_type": "code",
   "execution_count": 32,
   "metadata": {},
   "outputs": [
    {
     "name": "stdout",
     "output_type": "stream",
     "text": [
      "ATT utility: 0.000131, ATT regret: 0.025055\n",
      "ATT probability of treatment: 0.000138\n"
     ]
    }
   ],
   "source": [
    "# ATT reward:\n",
    "T_ATT = (mu_1s - mu_0s == (mu_1s - mu_0s).max()).astype(int)\n",
    "V_ATT = ((mu_1s - mu_0s) * T_ATT).mean()\n",
    "R_ATT = V_OPT - V_ATT\n",
    "print(\"ATT utility: %f, ATT regret: %f\" % (V_ATT, R_ATT))\n",
    "print(\"ATT probability of treatment: %f\" % T_ATT.mean())"
   ]
  },
  {
   "cell_type": "markdown",
   "metadata": {},
   "source": [
    "# Information asymmetry"
   ]
  },
  {
   "cell_type": "markdown",
   "metadata": {},
   "source": [
    "## Demographic information\n",
    "Suppose the principal identifies $E[Y(0) | X]$ where $X$ includes age and sex only."
   ]
  },
  {
   "cell_type": "code",
   "execution_count": 34,
   "metadata": {},
   "outputs": [
    {
     "name": "stdout",
     "output_type": "stream",
     "text": [
      "AGE  SEX_F  SEX_M  SEX_nan\n",
      "25   1      0      0          0.170687\n",
      "26   1      0      0          1.597416\n",
      "27   1      0      0          1.742476\n",
      "28   0      1      0         -0.791344\n",
      "     1      0      0          2.357934\n",
      "                                ...   \n",
      "96   0      1      0         -0.826785\n",
      "     1      0      0         -0.473799\n",
      "97   0      1      0         -0.739203\n",
      "     1      0      0         -0.435770\n",
      "98   1      0      0         -0.973564\n",
      "Name: mu_0, Length: 143, dtype: float64\n",
      "demographic info utility: -0.063917, demographic info regret: 0.089102\n",
      "demographic info probability of treatment: 0.504130\n"
     ]
    }
   ],
   "source": [
    "mu_0s_marginal = outcome_model.predict_mu_0s_marginal(df, df, ['AGE', 'SEX_F', 'SEX_M', 'SEX_nan'])\n",
    "# TT reward\n",
    "T_TT = (mu_1s - mu_0s_marginal > 0).astype(int)\n",
    "V_TT = ((mu_1s - mu_0s) * T_TT).mean()\n",
    "R_TT = V_OPT - V_TT\n",
    "print(\"demographic info utility: %f, demographic info regret: %f\" % (V_TT, R_TT))\n",
    "print(\"demographic info probability of treatment: %f\" % T_TT.mean())"
   ]
  },
  {
   "cell_type": "markdown",
   "metadata": {},
   "source": [
    " ## No information\n",
    " Suppose the principal gets no features and just identifies $E[Y(0)]$."
   ]
  },
  {
   "cell_type": "code",
   "execution_count": 36,
   "metadata": {},
   "outputs": [
    {
     "name": "stdout",
     "output_type": "stream",
     "text": [
      "no info utility: -0.048886, no info regret: 0.074072\n",
      "no info probability of treatment: 0.482930\n"
     ]
    }
   ],
   "source": [
    "mu_0s_marginal = outcome_model.predict_mu_0s_marginal(df, df, [])\n",
    "T_TT = (mu_1s - mu_0s_marginal > 0).astype(int)\n",
    "V_TT = ((mu_1s - mu_0s) * T_TT).mean()\n",
    "R_TT = V_OPT - V_TT\n",
    "print(\"no info utility: %f, no info regret: %f\" % (V_TT, R_TT))\n",
    "print(\"no info probability of treatment: %f\" % T_TT.mean())"
   ]
  },
  {
   "cell_type": "markdown",
   "metadata": {},
   "source": [
    "## Individual features"
   ]
  },
  {
   "cell_type": "code",
   "execution_count": 39,
   "metadata": {},
   "outputs": [],
   "source": [
    "feature_groups = {'Delay': ['RDELAY'],\n",
    "                  'Age': ['AGE'], \n",
    "                  'Blood pressure': ['RSBP'], \n",
    "                  'Conciousness': ['RCONSC_D', 'RCONSC_F', 'RCONSC_U', 'RCONSC_nan'], \n",
    "                  'Sex': ['SEX_F', 'SEX_M', 'SEX_nan'], \n",
    "                  'Sleep symptoms': ['RSLEEP_N', 'RSLEEP_Y', 'RSLEEP_nan'],\n",
    "                  'Atrial fibrillation': ['RATRIAL_N', 'RATRIAL_Y', 'RATRIAL_nan'],\n",
    "                  'CT done': ['RCT_N', 'RCT_Y', 'RCT_nan'], \n",
    "                  'Infact visible': ['RVISINF_N', 'RVISINF_Y', 'RVISINF_nan'], \n",
    "                  'Heparin prior': ['RHEP24_N', 'RHEP24_Y', 'RHEP24_nan'], \n",
    "                  'Aspirin prior': ['RASP3_N', 'RASP3_Y', 'RASP3_nan'], \n",
    "                  'Face deficit': ['RDEF1_C', 'RDEF1_N', 'RDEF1_Y', 'RDEF1_nan'],\n",
    "                  'Arm/hand deficit': ['RDEF2_C', 'RDEF2_N', 'RDEF2_Y', 'RDEF2_nan'], \n",
    "                  'Leg/foot deficit': ['RDEF3_C', 'RDEF3_N', 'RDEF3_Y', 'RDEF3_nan'], \n",
    "                  'Dysphasia': ['RDEF4_C', 'RDEF4_N', 'RDEF4_Y', 'RDEF4_nan'], \n",
    "                  'Hemianopia': ['RDEF5_C', 'RDEF5_N', 'RDEF5_Y', 'RDEF5_nan'], \n",
    "                  'Visuospatial disorder': ['RDEF6_C', 'RDEF6_N', 'RDEF6_Y', 'RDEF6_nan'], \n",
    "                  'Brainstem/cerebellar signs': ['RDEF7_C', 'RDEF7_N', 'RDEF7_Y', 'RDEF7_nan'], \n",
    "                  'Other deficit': ['RDEF8_C', 'RDEF8_N', 'RDEF8_Y', 'RDEF8_nan'], \n",
    "                  'Stroke subtype': ['STYPE_LACS', 'STYPE_OTH', 'STYPE_PACS', 'STYPE_POCS', 'STYPE_TACS', 'STYPE_nan']}\n"
   ]
  },
  {
   "cell_type": "code",
   "execution_count": 59,
   "metadata": {},
   "outputs": [
    {
     "name": "stdout",
     "output_type": "stream",
     "text": [
      "RDELAY\n",
      "1     0.182032\n",
      "2     0.188275\n",
      "3     0.180960\n",
      "4     0.205216\n",
      "5     0.310787\n",
      "6     0.273910\n",
      "7     0.357784\n",
      "8     0.333541\n",
      "9     0.364841\n",
      "10    0.454152\n",
      "11    0.546272\n",
      "12    0.424453\n",
      "13    0.546671\n",
      "14    0.493338\n",
      "15    0.483538\n",
      "16    0.487205\n",
      "17    0.421461\n",
      "18    0.457543\n",
      "19    0.478507\n",
      "20    0.509062\n",
      "21    0.300512\n",
      "22    0.513023\n",
      "23    0.448133\n",
      "24    0.534667\n",
      "25    0.510425\n",
      "26    0.534678\n",
      "27    0.525900\n",
      "28    0.475028\n",
      "29    0.589710\n",
      "30    0.463775\n",
      "31    0.444207\n",
      "32    0.512067\n",
      "33    0.526257\n",
      "34    0.439361\n",
      "35    0.682916\n",
      "36    0.462856\n",
      "37    0.387673\n",
      "38    0.466593\n",
      "39    0.391780\n",
      "40    0.492274\n",
      "41    0.588659\n",
      "42    0.532788\n",
      "43    0.450150\n",
      "44    0.620999\n",
      "45    0.420762\n",
      "46    0.399480\n",
      "47    0.563802\n",
      "48    0.495570\n",
      "Name: mu_0, dtype: float64\n",
      "AGE\n",
      "25    0.170687\n",
      "26    1.597416\n",
      "27    1.742476\n",
      "28    0.783295\n",
      "29    1.791293\n",
      "        ...   \n",
      "94   -0.194076\n",
      "95   -0.631973\n",
      "96   -0.574653\n",
      "97   -0.486342\n",
      "98   -0.973564\n",
      "Name: mu_0, Length: 74, dtype: float64\n",
      "RSBP\n",
      "80    -0.528602\n",
      "85     0.810528\n",
      "90     0.318176\n",
      "93    -0.553913\n",
      "95    -0.310533\n",
      "         ...   \n",
      "250    0.572065\n",
      "255    0.233554\n",
      "260    0.571993\n",
      "270    0.885379\n",
      "280   -1.148528\n",
      "Name: mu_0, Length: 136, dtype: float64\n",
      "RCONSC_D  RCONSC_F  RCONSC_U  RCONSC_nan\n",
      "0         0         1         0            -1.558628\n",
      "          1         0         0             0.746756\n",
      "1         0         0         0            -0.522810\n",
      "Name: mu_0, dtype: float64\n",
      "SEX_F  SEX_M  SEX_nan\n",
      "0      1      0          0.591196\n",
      "1      0      0          0.259284\n",
      "Name: mu_0, dtype: float64\n",
      "RSLEEP_N  RSLEEP_Y  RSLEEP_nan\n",
      "0         1         0             0.479997\n",
      "1         0         0             0.415101\n",
      "Name: mu_0, dtype: float64\n",
      "RATRIAL_N  RATRIAL_Y  RATRIAL_nan\n",
      "0          0          1              0.320698\n",
      "           1          0             -0.152991\n",
      "1          0          0              0.569498\n",
      "Name: mu_0, dtype: float64\n",
      "RCT_N  RCT_Y  RCT_nan\n",
      "0      1      0          0.472541\n",
      "1      0      0          0.355825\n",
      "Name: mu_0, dtype: float64\n",
      "RVISINF_N  RVISINF_Y  RVISINF_nan\n",
      "0          1          0              0.250933\n",
      "1          0          0              0.526456\n",
      "Name: mu_0, dtype: float64\n",
      "RHEP24_N  RHEP24_Y  RHEP24_nan\n",
      "0         0         1             0.282780\n",
      "          1         0             0.470681\n",
      "1         0         0             0.435963\n",
      "Name: mu_0, dtype: float64\n",
      "RASP3_N  RASP3_Y  RASP3_nan\n",
      "0        0        1            0.320698\n",
      "         1        0            0.403245\n",
      "1        0        0            0.450356\n",
      "Name: mu_0, dtype: float64\n",
      "RDEF1_C  RDEF1_N  RDEF1_Y  RDEF1_nan\n",
      "0        0        1        0            0.296917\n",
      "         1        0        0            0.874678\n",
      "1        0        0        0           -0.915453\n",
      "Name: mu_0, dtype: float64\n",
      "RDEF2_C  RDEF2_N  RDEF2_Y  RDEF2_nan\n",
      "0        0        1        0            0.322500\n",
      "         1        0        0            1.119403\n",
      "1        0        0        0            0.160900\n",
      "Name: mu_0, dtype: float64\n",
      "RDEF3_C  RDEF3_N  RDEF3_Y  RDEF3_nan\n",
      "0        0        1        0            0.243213\n",
      "         1        0        0            1.070473\n",
      "1        0        0        0           -0.181382\n",
      "Name: mu_0, dtype: float64\n",
      "RDEF4_C  RDEF4_N  RDEF4_Y  RDEF4_nan\n",
      "0        0        1        0            0.172169\n",
      "         1        0        0            0.737022\n",
      "1        0        0        0           -1.155622\n",
      "Name: mu_0, dtype: float64\n",
      "RDEF5_C  RDEF5_N  RDEF5_Y  RDEF5_nan\n",
      "0        0        1        0           -0.019960\n",
      "         1        0        0            0.831339\n",
      "1        0        0        0           -0.440487\n",
      "Name: mu_0, dtype: float64\n",
      "RDEF6_C  RDEF6_N  RDEF6_Y  RDEF6_nan\n",
      "0        0        1        0           -0.110850\n",
      "         1        0        0            0.820527\n",
      "1        0        0        0           -0.496480\n",
      "Name: mu_0, dtype: float64\n",
      "RDEF7_C  RDEF7_N  RDEF7_Y  RDEF7_nan\n",
      "0        0        1        0            0.658697\n",
      "         1        0        0            0.512102\n",
      "1        0        0        0           -0.615476\n",
      "Name: mu_0, dtype: float64\n",
      "RDEF8_C  RDEF8_N  RDEF8_Y  RDEF8_nan\n",
      "0        0        1        0            0.362596\n",
      "         1        0        0            0.515382\n",
      "1        0        0        0           -0.573790\n",
      "Name: mu_0, dtype: float64\n",
      "STYPE_LACS  STYPE_OTH  STYPE_PACS  STYPE_POCS  STYPE_TACS  STYPE_nan\n",
      "0           0          0           0           1           0           -0.400951\n",
      "                                   1           0           0            0.682622\n",
      "                       1           0           0           0            0.534801\n",
      "            1          0           0           0           0            1.730004\n",
      "1           0          0           0           0           0            0.973590\n",
      "Name: mu_0, dtype: float64\n"
     ]
    }
   ],
   "source": [
    "# Calculate gamma_margs for each individual feature\n",
    "gamma_margs = {}\n",
    "for name, feature_group in feature_groups.items():\n",
    "    mu_0s_marginal = outcome_model.predict_mu_0s_marginal(df, df, feature_group)\n",
    "    gamma_marg = (np.abs(mu_0s_marginal - mu_0s)).mean()\n",
    "    gamma_margs[name] = gamma_marg"
   ]
  },
  {
   "cell_type": "code",
   "execution_count": 60,
   "metadata": {},
   "outputs": [
    {
     "data": {
      "text/plain": [
       "{'Delay': 0.6373125923370251,\n",
       " 'Age': 0.5653535007322553,\n",
       " 'Blood pressure': 0.6368320104288473,\n",
       " 'Conciousness': 0.44360520287240157,\n",
       " 'Sex': 0.6301660694104128,\n",
       " 'Sleep symptoms': 0.6458554317513233,\n",
       " 'Atrial fibrillation': 0.6040311345832378,\n",
       " 'CT done': 0.6450285929389888,\n",
       " 'Infact visible': 0.6377245824752066,\n",
       " 'Heparin prior': 0.6461841812865015,\n",
       " 'Aspirin prior': 0.6458817426716775,\n",
       " 'Face deficit': 0.5955143022050047,\n",
       " 'Arm/hand deficit': 0.6033256890229672,\n",
       " 'Leg/foot deficit': 0.5729727671592819,\n",
       " 'Dysphasia': 0.5557869310217124,\n",
       " 'Hemianopia': 0.4632322762556463,\n",
       " 'Visuospatial disorder': 0.45595056669855083,\n",
       " 'Brainstem/cerebellar signs': 0.5867636998636343,\n",
       " 'Other deficit': 0.6040245514101399,\n",
       " 'Stroke subtype': 0.46715860697703315}"
      ]
     },
     "execution_count": 60,
     "metadata": {},
     "output_type": "execute_result"
    }
   ],
   "source": [
    "gamma_margs"
   ]
  },
  {
   "cell_type": "code",
   "execution_count": 61,
   "metadata": {},
   "outputs": [],
   "source": [
    "sorted_gamma_margs = dict(sorted(gamma_margs.items(), key=lambda item: item[1]))"
   ]
  },
  {
   "cell_type": "code",
   "execution_count": 82,
   "metadata": {},
   "outputs": [
    {
     "name": "stdout",
     "output_type": "stream",
     "text": [
      "0.6466038292378895\n"
     ]
    }
   ],
   "source": [
    "# Calculate gamma_marg for no features\n",
    "mu_0s_marginal = outcome_model.predict_mu_0s_marginal(df, df, [])\n",
    "none_gamma_marg = (np.abs(mu_0s_marginal - mu_0s)).mean()\n",
    "print(none_gamma_marg)"
   ]
  },
  {
   "cell_type": "code",
   "execution_count": 83,
   "metadata": {},
   "outputs": [
    {
     "data": {
      "image/png": "[encoded data removed]",
      "text/plain": [
       "<Figure size 720x216 with 1 Axes>"
      ]
     },
     "metadata": {
      "needs_background": "light"
     },
     "output_type": "display_data"
    }
   ],
   "source": [
    "plt.figure(figsize = (10, 3))\n",
    "plt.bar('None', none_gamma_marg, color='orange')\n",
    "plt.bar(sorted_gamma_margs.keys(), sorted_gamma_margs.values())\n",
    "plt.xticks(rotation=90)\n",
    "plt.tick_params(labelsize = 15)\n",
    "plt.savefig('plots/ist_gammas.pdf', format='pdf', bbox_inches = \"tight\")\n",
    "plt.show()"
   ]
  },
  {
   "cell_type": "code",
   "execution_count": 63,
   "metadata": {
    "scrolled": true
   },
   "outputs": [
    {
     "name": "stdout",
     "output_type": "stream",
     "text": [
      "RCONSC_D  RCONSC_F  RCONSC_U  RCONSC_nan\n",
      "0         0         1         0            -1.558628\n",
      "          1         0         0             0.746756\n",
      "1         0         0         0            -0.522810\n",
      "Name: mu_0, dtype: float64\n",
      "RDEF6_C  RDEF6_N  RDEF6_Y  RDEF6_nan\n",
      "0        0        1        0           -0.110850\n",
      "         1        0        0            0.820527\n",
      "1        0        0        0           -0.496480\n",
      "Name: mu_0, dtype: float64\n",
      "RDEF5_C  RDEF5_N  RDEF5_Y  RDEF5_nan\n",
      "0        0        1        0           -0.019960\n",
      "         1        0        0            0.831339\n",
      "1        0        0        0           -0.440487\n",
      "Name: mu_0, dtype: float64\n",
      "STYPE_LACS  STYPE_OTH  STYPE_PACS  STYPE_POCS  STYPE_TACS  STYPE_nan\n",
      "0           0          0           0           1           0           -0.400951\n",
      "                                   1           0           0            0.682622\n",
      "                       1           0           0           0            0.534801\n",
      "            1          0           0           0           0            1.730004\n",
      "1           0          0           0           0           0            0.973590\n",
      "Name: mu_0, dtype: float64\n",
      "RDEF4_C  RDEF4_N  RDEF4_Y  RDEF4_nan\n",
      "0        0        1        0            0.172169\n",
      "         1        0        0            0.737022\n",
      "1        0        0        0           -1.155622\n",
      "Name: mu_0, dtype: float64\n",
      "AGE\n",
      "25    0.170687\n",
      "26    1.597416\n",
      "27    1.742476\n",
      "28    0.783295\n",
      "29    1.791293\n",
      "        ...   \n",
      "94   -0.194076\n",
      "95   -0.631973\n",
      "96   -0.574653\n",
      "97   -0.486342\n",
      "98   -0.973564\n",
      "Name: mu_0, Length: 74, dtype: float64\n",
      "RDEF3_C  RDEF3_N  RDEF3_Y  RDEF3_nan\n",
      "0        0        1        0            0.243213\n",
      "         1        0        0            1.070473\n",
      "1        0        0        0           -0.181382\n",
      "Name: mu_0, dtype: float64\n",
      "RDEF7_C  RDEF7_N  RDEF7_Y  RDEF7_nan\n",
      "0        0        1        0            0.658697\n",
      "         1        0        0            0.512102\n",
      "1        0        0        0           -0.615476\n",
      "Name: mu_0, dtype: float64\n",
      "RDEF1_C  RDEF1_N  RDEF1_Y  RDEF1_nan\n",
      "0        0        1        0            0.296917\n",
      "         1        0        0            0.874678\n",
      "1        0        0        0           -0.915453\n",
      "Name: mu_0, dtype: float64\n",
      "RDEF2_C  RDEF2_N  RDEF2_Y  RDEF2_nan\n",
      "0        0        1        0            0.322500\n",
      "         1        0        0            1.119403\n",
      "1        0        0        0            0.160900\n",
      "Name: mu_0, dtype: float64\n",
      "RDEF8_C  RDEF8_N  RDEF8_Y  RDEF8_nan\n",
      "0        0        1        0            0.362596\n",
      "         1        0        0            0.515382\n",
      "1        0        0        0           -0.573790\n",
      "Name: mu_0, dtype: float64\n",
      "RATRIAL_N  RATRIAL_Y  RATRIAL_nan\n",
      "0          0          1              0.320698\n",
      "           1          0             -0.152991\n",
      "1          0          0              0.569498\n",
      "Name: mu_0, dtype: float64\n",
      "SEX_F  SEX_M  SEX_nan\n",
      "0      1      0          0.591196\n",
      "1      0      0          0.259284\n",
      "Name: mu_0, dtype: float64\n",
      "RSBP\n",
      "80    -0.528602\n",
      "85     0.810528\n",
      "90     0.318176\n",
      "93    -0.553913\n",
      "95    -0.310533\n",
      "         ...   \n",
      "250    0.572065\n",
      "255    0.233554\n",
      "260    0.571993\n",
      "270    0.885379\n",
      "280   -1.148528\n",
      "Name: mu_0, Length: 136, dtype: float64\n",
      "RDELAY\n",
      "1     0.182032\n",
      "2     0.188275\n",
      "3     0.180960\n",
      "4     0.205216\n",
      "5     0.310787\n",
      "6     0.273910\n",
      "7     0.357784\n",
      "8     0.333541\n",
      "9     0.364841\n",
      "10    0.454152\n",
      "11    0.546272\n",
      "12    0.424453\n",
      "13    0.546671\n",
      "14    0.493338\n",
      "15    0.483538\n",
      "16    0.487205\n",
      "17    0.421461\n",
      "18    0.457543\n",
      "19    0.478507\n",
      "20    0.509062\n",
      "21    0.300512\n",
      "22    0.513023\n",
      "23    0.448133\n",
      "24    0.534667\n",
      "25    0.510425\n",
      "26    0.534678\n",
      "27    0.525900\n",
      "28    0.475028\n",
      "29    0.589710\n",
      "30    0.463775\n",
      "31    0.444207\n",
      "32    0.512067\n",
      "33    0.526257\n",
      "34    0.439361\n",
      "35    0.682916\n",
      "36    0.462856\n",
      "37    0.387673\n",
      "38    0.466593\n",
      "39    0.391780\n",
      "40    0.492274\n",
      "41    0.588659\n",
      "42    0.532788\n",
      "43    0.450150\n",
      "44    0.620999\n",
      "45    0.420762\n",
      "46    0.399480\n",
      "47    0.563802\n",
      "48    0.495570\n",
      "Name: mu_0, dtype: float64\n",
      "RVISINF_N  RVISINF_Y  RVISINF_nan\n",
      "0          1          0              0.250933\n",
      "1          0          0              0.526456\n",
      "Name: mu_0, dtype: float64\n",
      "RCT_N  RCT_Y  RCT_nan\n",
      "0      1      0          0.472541\n",
      "1      0      0          0.355825\n",
      "Name: mu_0, dtype: float64\n",
      "RSLEEP_N  RSLEEP_Y  RSLEEP_nan\n",
      "0         1         0             0.479997\n",
      "1         0         0             0.415101\n",
      "Name: mu_0, dtype: float64\n",
      "RASP3_N  RASP3_Y  RASP3_nan\n",
      "0        0        1            0.320698\n",
      "         1        0            0.403245\n",
      "1        0        0            0.450356\n",
      "Name: mu_0, dtype: float64\n",
      "RHEP24_N  RHEP24_Y  RHEP24_nan\n",
      "0         0         1             0.282780\n",
      "          1         0             0.470681\n",
      "1         0         0             0.435963\n",
      "Name: mu_0, dtype: float64\n"
     ]
    },
    {
     "data": {
      "text/plain": [
       "{'Conciousness': 0.06189294424196044,\n",
       " 'Visuospatial disorder': 0.04943349162634397,\n",
       " 'Hemianopia': 0.06025340360134128,\n",
       " 'Stroke subtype': 0.053504648484883024,\n",
       " 'Dysphasia': 0.058319951299717926,\n",
       " 'Age': 0.09312036303537903,\n",
       " 'Leg/foot deficit': 0.06815717418633027,\n",
       " 'Brainstem/cerebellar signs': 0.06725966617819287,\n",
       " 'Face deficit': 0.06185069071288561,\n",
       " 'Arm/hand deficit': 0.06667432368555333,\n",
       " 'Other deficit': 0.06984656756571629,\n",
       " 'Atrial fibrillation': 0.06787540792536177,\n",
       " 'Sex': 0.07183403449413378,\n",
       " 'Blood pressure': 0.07324083166967528,\n",
       " 'Delay': 0.07442849555581944,\n",
       " 'Infact visible': 0.07064526871174677,\n",
       " 'CT done': 0.07586830812771798,\n",
       " 'Sleep symptoms': 0.07448398254225094,\n",
       " 'Aspirin prior': 0.07366382198572863,\n",
       " 'Heparin prior': 0.07404741073809394}"
      ]
     },
     "execution_count": 63,
     "metadata": {},
     "output_type": "execute_result"
    }
   ],
   "source": [
    "# Regret for individual features\n",
    "regrets_individual = {}\n",
    "for name in sorted_gamma_margs.keys():\n",
    "    feature_group = feature_groups[name]\n",
    "    mu_0s_marginal = outcome_model.predict_mu_0s_marginal(df, df, feature_group)\n",
    "    T_TT = (mu_1s - mu_0s_marginal > 0).astype(int)\n",
    "    V_TT = ((mu_1s - mu_0s) * T_TT).mean()\n",
    "    R_TT = V_OPT - V_TT\n",
    "    regrets_individual[name] = R_TT\n",
    "regrets_individual"
   ]
  },
  {
   "cell_type": "code",
   "execution_count": 79,
   "metadata": {},
   "outputs": [
    {
     "data": {
      "image/png": "[encoded data removed]",
      "text/plain": [
       "<Figure size 720x216 with 1 Axes>"
      ]
     },
     "metadata": {
      "needs_background": "light"
     },
     "output_type": "display_data"
    }
   ],
   "source": [
    "# Plot regrets with the same sorted order as the gamma_margs.\n",
    "plt.figure(figsize = (10, 3))\n",
    "plt.bar('None', regrets_cumulative['None'], color='orange')\n",
    "plt.bar(regrets_individual.keys(), regrets_individual.values())\n",
    "plt.xticks(rotation=90)\n",
    "plt.tick_params(labelsize = 15)\n",
    "plt.savefig('plots/ist_regrets_indiv.pdf', format='pdf', bbox_inches = \"tight\")\n",
    "plt.show()"
   ]
  },
  {
   "cell_type": "code",
   "execution_count": 65,
   "metadata": {},
   "outputs": [
    {
     "name": "stdout",
     "output_type": "stream",
     "text": [
      "['RCONSC_D', 'RCONSC_F', 'RCONSC_U', 'RCONSC_nan']\n",
      "RCONSC_D  RCONSC_F  RCONSC_U  RCONSC_nan\n",
      "0         0         1         0            -1.558628\n",
      "          1         0         0             0.746756\n",
      "1         0         0         0            -0.522810\n",
      "Name: mu_0, dtype: float64\n",
      "['RCONSC_D', 'RCONSC_F', 'RCONSC_U', 'RCONSC_nan', 'RDEF6_C', 'RDEF6_N', 'RDEF6_Y', 'RDEF6_nan']\n",
      "RCONSC_D  RCONSC_F  RCONSC_U  RCONSC_nan  RDEF6_C  RDEF6_N  RDEF6_Y  RDEF6_nan\n",
      "0         0         1         0           0        0        1        0           -1.452548\n",
      "                                                   1        0        0           -0.090796\n",
      "                                          1        0        0        0           -1.683301\n",
      "          1         0         0           0        0        1        0            0.249951\n",
      "                                                   1        0        0            0.915215\n",
      "                                          1        0        0        0            0.058869\n",
      "1         0         0         0           0        0        1        0           -0.607578\n",
      "                                                   1        0        0           -0.034733\n",
      "                                          1        0        0        0           -0.809262\n",
      "Name: mu_0, dtype: float64\n",
      "['RCONSC_D', 'RCONSC_F', 'RCONSC_U', 'RCONSC_nan', 'RDEF6_C', 'RDEF6_N', 'RDEF6_Y', 'RDEF6_nan', 'RDEF5_C', 'RDEF5_N', 'RDEF5_Y', 'RDEF5_nan']\n",
      "RCONSC_D  RCONSC_F  RCONSC_U  RCONSC_nan  RDEF6_C  RDEF6_N  RDEF6_Y  RDEF6_nan  RDEF5_C  RDEF5_N  RDEF5_Y  RDEF5_nan\n",
      "0         0         1         0           0        0        1        0          0        0        1        0           -1.007756\n",
      "                                                                                1        0        0        0           -1.619344\n",
      "                                                   1        0        0          0        1        0        0           -0.048050\n",
      "                                                                                1        0        0        0           -0.304528\n",
      "                                          1        0        0        0          0        0        1        0           -1.413537\n",
      "                                                                                         1        0        0           -0.848064\n",
      "                                                                                1        0        0        0           -1.724661\n",
      "          1         0         0           0        0        1        0          0        0        1        0            0.113144\n",
      "                                                                                         1        0        0            0.506296\n",
      "                                                                                1        0        0        0           -0.045862\n",
      "                                                   1        0        0          0        0        1        0            0.636762\n",
      "                                                                                         1        0        0            0.964405\n",
      "                                                                                1        0        0        0            0.437499\n",
      "                                          1        0        0        0          0        0        1        0           -0.022500\n",
      "                                                                                         1        0        0            0.403474\n",
      "                                                                                1        0        0        0           -0.030819\n",
      "1         0         0         0           0        0        1        0          0        0        1        0           -0.645027\n",
      "                                                                                         1        0        0           -0.153539\n",
      "                                                                                1        0        0        0           -0.790279\n",
      "                                                   1        0        0          0        0        1        0           -0.236587\n",
      "                                                                                         1        0        0            0.097301\n",
      "                                                                                1        0        0        0           -0.290093\n",
      "                                          1        0        0        0          0        0        1        0           -0.834736\n",
      "                                                                                         1        0        0           -0.263862\n",
      "                                                                                1        0        0        0           -0.846812\n",
      "Name: mu_0, dtype: float64\n",
      "['RCONSC_D', 'RCONSC_F', 'RCONSC_U', 'RCONSC_nan', 'RDEF6_C', 'RDEF6_N', 'RDEF6_Y', 'RDEF6_nan', 'RDEF5_C', 'RDEF5_N', 'RDEF5_Y', 'RDEF5_nan', 'STYPE_LACS', 'STYPE_OTH', 'STYPE_PACS', 'STYPE_POCS', 'STYPE_TACS', 'STYPE_nan']\n",
      "RCONSC_D  RCONSC_F  RCONSC_U  RCONSC_nan  RDEF6_C  RDEF6_N  RDEF6_Y  RDEF6_nan  RDEF5_C  RDEF5_N  RDEF5_Y  RDEF5_nan  STYPE_LACS  STYPE_OTH  STYPE_PACS  STYPE_POCS  STYPE_TACS  STYPE_nan\n",
      "0         0         1         0           0        0        1        0          0        0        1        0          0           0          0           0           1           0           -1.298541\n",
      "                                                                                                                                                         1           0           0           -0.426186\n",
      "                                                                                1        0        0        0          0           0          0           0           1           0           -1.738096\n",
      "                                                                                                                                             1           0           0           0           -1.263091\n",
      "                                                   1        0        0          0        1        0        0          0           0          0           1           0           0           -0.048050\n",
      "                                                                                                                                                                                                ...   \n",
      "1         0         0         0           1        0        0        0          0        1        0        0          0           0          0           1           0           0           -0.216708\n",
      "                                                                                                                                             1           0           0           0           -0.267685\n",
      "                                                                                1        0        0        0          0           0          0           0           1           0           -0.898604\n",
      "                                                                                                                                                         1           0           0           -0.799597\n",
      "                                                                                                                                             1           0           0           0           -0.768073\n",
      "Name: mu_0, Length: 62, dtype: float64\n",
      "['RCONSC_D', 'RCONSC_F', 'RCONSC_U', 'RCONSC_nan', 'RDEF6_C', 'RDEF6_N', 'RDEF6_Y', 'RDEF6_nan', 'RDEF5_C', 'RDEF5_N', 'RDEF5_Y', 'RDEF5_nan', 'STYPE_LACS', 'STYPE_OTH', 'STYPE_PACS', 'STYPE_POCS', 'STYPE_TACS', 'STYPE_nan', 'RDEF4_C', 'RDEF4_N', 'RDEF4_Y', 'RDEF4_nan']\n",
      "RCONSC_D  RCONSC_F  RCONSC_U  RCONSC_nan  RDEF6_C  RDEF6_N  RDEF6_Y  RDEF6_nan  RDEF5_C  RDEF5_N  RDEF5_Y  RDEF5_nan  STYPE_LACS  STYPE_OTH  STYPE_PACS  STYPE_POCS  STYPE_TACS  STYPE_nan  RDEF4_C  RDEF4_N  RDEF4_Y  RDEF4_nan\n",
      "0         0         1         0           0        0        1        0          0        0        1        0          0           0          0           0           1           0          0        0        1        0           -1.298541\n",
      "                                                                                                                                                         1           0           0          0        0        1        0           -0.426186\n",
      "                                                                                1        0        0        0          0           0          0           0           1           0          0        0        1        0           -1.385834\n",
      "                                                                                                                                                                                            1        0        0        0           -2.090357\n",
      "                                                                                                                                             1           0           0           0          0        0        1        0           -0.792800\n",
      "                                                                                                                                                                                                                                      ...   \n",
      "1         0         0         0           1        0        0        0          1        0        0        0          0           0          0           1           0           0          0        1        0        0           -0.719330\n",
      "                                                                                                                                                                                            1        0        0        0           -0.938724\n",
      "                                                                                                                                             1           0           0           0          0        0        1        0           -0.166319\n",
      "                                                                                                                                                                                                     1        0        0           -0.578510\n",
      "                                                                                                                                                                                            1        0        0        0           -1.207719\n",
      "Name: mu_0, Length: 129, dtype: float64\n"
     ]
    },
    {
     "name": "stdout",
     "output_type": "stream",
     "text": [
      "['RCONSC_D', 'RCONSC_F', 'RCONSC_U', 'RCONSC_nan', 'RDEF6_C', 'RDEF6_N', 'RDEF6_Y', 'RDEF6_nan', 'RDEF5_C', 'RDEF5_N', 'RDEF5_Y', 'RDEF5_nan', 'STYPE_LACS', 'STYPE_OTH', 'STYPE_PACS', 'STYPE_POCS', 'STYPE_TACS', 'STYPE_nan', 'RDEF4_C', 'RDEF4_N', 'RDEF4_Y', 'RDEF4_nan', 'AGE']\n",
      "RCONSC_D  RCONSC_F  RCONSC_U  RCONSC_nan  RDEF6_C  RDEF6_N  RDEF6_Y  RDEF6_nan  RDEF5_C  RDEF5_N  RDEF5_Y  RDEF5_nan  STYPE_LACS  STYPE_OTH  STYPE_PACS  STYPE_POCS  STYPE_TACS  STYPE_nan  RDEF4_C  RDEF4_N  RDEF4_Y  RDEF4_nan  AGE\n",
      "0         0         1         0           0        0        1        0          0        0        1        0          0           0          0           0           1           0          0        0        1        0          65    -1.110749\n",
      "                                                                                                                                                                                                                                  73    -1.486332\n",
      "                                                                                                                                                         1           0           0          0        0        1        0          54    -0.426186\n",
      "                                                                                1        0        0        0          0           0          0           0           1           0          0        0        1        0          53    -0.753847\n",
      "                                                                                                                                                                                                                                  68    -1.550606\n",
      "                                                                                                                                                                                                                                           ...   \n",
      "1         0         0         0           1        0        0        0          1        0        0        0          0           0          1           0           0           0          1        0        0        0          90    -1.575562\n",
      "                                                                                                                                                                                                                                  91    -1.506631\n",
      "                                                                                                                                                                                                                                  92    -1.509702\n",
      "                                                                                                                                                                                                                                  93    -1.706374\n",
      "                                                                                                                                                                                                                                  95    -1.631155\n",
      "Name: mu_0, Length: 1910, dtype: float64\n",
      "['RCONSC_D', 'RCONSC_F', 'RCONSC_U', 'RCONSC_nan', 'RDEF6_C', 'RDEF6_N', 'RDEF6_Y', 'RDEF6_nan', 'RDEF5_C', 'RDEF5_N', 'RDEF5_Y', 'RDEF5_nan', 'STYPE_LACS', 'STYPE_OTH', 'STYPE_PACS', 'STYPE_POCS', 'STYPE_TACS', 'STYPE_nan', 'RDEF4_C', 'RDEF4_N', 'RDEF4_Y', 'RDEF4_nan', 'AGE', 'RDEF3_C', 'RDEF3_N', 'RDEF3_Y', 'RDEF3_nan']\n",
      "RCONSC_D  RCONSC_F  RCONSC_U  RCONSC_nan  RDEF6_C  RDEF6_N  RDEF6_Y  RDEF6_nan  RDEF5_C  RDEF5_N  RDEF5_Y  RDEF5_nan  STYPE_LACS  STYPE_OTH  STYPE_PACS  STYPE_POCS  STYPE_TACS  STYPE_nan  RDEF4_C  RDEF4_N  RDEF4_Y  RDEF4_nan  AGE  RDEF3_C  RDEF3_N  RDEF3_Y  RDEF3_nan\n",
      "0         0         1         0           0        0        1        0          0        0        1        0          0           0          0           0           1           0          0        0        1        0          65   0        0        1        0           -1.110749\n",
      "                                                                                                                                                                                                                                  73   0        0        1        0           -1.486332\n",
      "                                                                                                                                                         1           0           0          0        0        1        0          54   1        0        0        0           -0.426186\n",
      "                                                                                1        0        0        0          0           0          0           0           1           0          0        0        1        0          53   0        0        1        0           -0.753847\n",
      "                                                                                                                                                                                                                                  68   0        0        1        0           -1.550606\n",
      "                                                                                                                                                                                                                                                                                 ...   \n",
      "1         0         0         0           1        0        0        0          1        0        0        0          0           0          1           0           0           0          1        0        0        0          91   0        0        1        0           -1.506631\n",
      "                                                                                                                                                                                                                                  92   0        0        1        0           -1.509702\n",
      "                                                                                                                                                                                                                                  93   0        0        1        0           -1.812348\n",
      "                                                                                                                                                                                                                                       1        0        0        0           -1.600400\n",
      "                                                                                                                                                                                                                                  95   0        0        1        0           -1.631155\n",
      "Name: mu_0, Length: 2358, dtype: float64\n",
      "['RCONSC_D', 'RCONSC_F', 'RCONSC_U', 'RCONSC_nan', 'RDEF6_C', 'RDEF6_N', 'RDEF6_Y', 'RDEF6_nan', 'RDEF5_C', 'RDEF5_N', 'RDEF5_Y', 'RDEF5_nan', 'STYPE_LACS', 'STYPE_OTH', 'STYPE_PACS', 'STYPE_POCS', 'STYPE_TACS', 'STYPE_nan', 'RDEF4_C', 'RDEF4_N', 'RDEF4_Y', 'RDEF4_nan', 'AGE', 'RDEF3_C', 'RDEF3_N', 'RDEF3_Y', 'RDEF3_nan', 'RDEF7_C', 'RDEF7_N', 'RDEF7_Y', 'RDEF7_nan']\n",
      "RCONSC_D  RCONSC_F  RCONSC_U  RCONSC_nan  RDEF6_C  RDEF6_N  RDEF6_Y  RDEF6_nan  RDEF5_C  RDEF5_N  RDEF5_Y  RDEF5_nan  STYPE_LACS  STYPE_OTH  STYPE_PACS  STYPE_POCS  STYPE_TACS  STYPE_nan  RDEF4_C  RDEF4_N  RDEF4_Y  RDEF4_nan  AGE  RDEF3_C  RDEF3_N  RDEF3_Y  RDEF3_nan  RDEF7_C  RDEF7_N  RDEF7_Y  RDEF7_nan\n",
      "0         0         1         0           0        0        1        0          0        0        1        0          0           0          0           0           1           0          0        0        1        0          65   0        0        1        0          0        1        0        0           -1.110749\n",
      "                                                                                                                                                                                                                                  73   0        0        1        0          0        1        0        0           -1.486332\n",
      "                                                                                                                                                         1           0           0          0        0        1        0          54   1        0        0        0          0        0        1        0           -0.426186\n",
      "                                                                                1        0        0        0          0           0          0           0           1           0          0        0        1        0          53   0        0        1        0          0        1        0        0           -0.753847\n",
      "                                                                                                                                                                                                                                  68   0        0        1        0          1        0        0        0           -1.550606\n",
      "                                                                                                                                                                                                                                                                                                                       ...   \n",
      "1         0         0         0           1        0        0        0          1        0        0        0          0           0          1           0           0           0          1        0        0        0          91   0        0        1        0          0        1        0        0           -1.506631\n",
      "                                                                                                                                                                                                                                  92   0        0        1        0          1        0        0        0           -1.509702\n",
      "                                                                                                                                                                                                                                  93   0        0        1        0          1        0        0        0           -1.812348\n",
      "                                                                                                                                                                                                                                       1        0        0        0          1        0        0        0           -1.600400\n",
      "                                                                                                                                                                                                                                  95   0        0        1        0          1        0        0        0           -1.631155\n",
      "Name: mu_0, Length: 2602, dtype: float64\n"
     ]
    },
    {
     "name": "stdout",
     "output_type": "stream",
     "text": [
      "['RCONSC_D', 'RCONSC_F', 'RCONSC_U', 'RCONSC_nan', 'RDEF6_C', 'RDEF6_N', 'RDEF6_Y', 'RDEF6_nan', 'RDEF5_C', 'RDEF5_N', 'RDEF5_Y', 'RDEF5_nan', 'STYPE_LACS', 'STYPE_OTH', 'STYPE_PACS', 'STYPE_POCS', 'STYPE_TACS', 'STYPE_nan', 'RDEF4_C', 'RDEF4_N', 'RDEF4_Y', 'RDEF4_nan', 'AGE', 'RDEF3_C', 'RDEF3_N', 'RDEF3_Y', 'RDEF3_nan', 'RDEF7_C', 'RDEF7_N', 'RDEF7_Y', 'RDEF7_nan', 'RDEF1_C', 'RDEF1_N', 'RDEF1_Y', 'RDEF1_nan']\n",
      "RCONSC_D  RCONSC_F  RCONSC_U  RCONSC_nan  RDEF6_C  RDEF6_N  RDEF6_Y  RDEF6_nan  RDEF5_C  RDEF5_N  RDEF5_Y  RDEF5_nan  STYPE_LACS  STYPE_OTH  STYPE_PACS  STYPE_POCS  STYPE_TACS  STYPE_nan  RDEF4_C  RDEF4_N  RDEF4_Y  RDEF4_nan  AGE  RDEF3_C  RDEF3_N  RDEF3_Y  RDEF3_nan  RDEF7_C  RDEF7_N  RDEF7_Y  RDEF7_nan  RDEF1_C  RDEF1_N  RDEF1_Y  RDEF1_nan\n",
      "0         0         1         0           0        0        1        0          0        0        1        0          0           0          0           0           1           0          0        0        1        0          65   0        0        1        0          0        1        0        0          0        0        1        0           -1.110749\n",
      "                                                                                                                                                                                                                                  73   0        0        1        0          0        1        0        0          0        0        1        0           -1.486332\n",
      "                                                                                                                                                         1           0           0          0        0        1        0          54   1        0        0        0          0        0        1        0          1        0        0        0           -0.426186\n",
      "                                                                                1        0        0        0          0           0          0           0           1           0          0        0        1        0          53   0        0        1        0          0        1        0        0          0        0        1        0           -0.753847\n",
      "                                                                                                                                                                                                                                  68   0        0        1        0          1        0        0        0          0        0        1        0           -1.550606\n",
      "                                                                                                                                                                                                                                                                                                                                                             ...   \n",
      "1         0         0         0           1        0        0        0          1        0        0        0          0           0          1           0           0           0          1        0        0        0          92   0        0        1        0          1        0        0        0          0        0        1        0           -1.558125\n",
      "                                                                                                                                                                                                                                                                                                                            1        0        0           -1.461280\n",
      "                                                                                                                                                                                                                                  93   0        0        1        0          1        0        0        0          0        0        1        0           -1.812348\n",
      "                                                                                                                                                                                                                                       1        0        0        0          1        0        0        0          0        0        1        0           -1.600400\n",
      "                                                                                                                                                                                                                                  95   0        0        1        0          1        0        0        0          0        0        1        0           -1.631155\n",
      "Name: mu_0, Length: 3103, dtype: float64\n",
      "['RCONSC_D', 'RCONSC_F', 'RCONSC_U', 'RCONSC_nan', 'RDEF6_C', 'RDEF6_N', 'RDEF6_Y', 'RDEF6_nan', 'RDEF5_C', 'RDEF5_N', 'RDEF5_Y', 'RDEF5_nan', 'STYPE_LACS', 'STYPE_OTH', 'STYPE_PACS', 'STYPE_POCS', 'STYPE_TACS', 'STYPE_nan', 'RDEF4_C', 'RDEF4_N', 'RDEF4_Y', 'RDEF4_nan', 'AGE', 'RDEF3_C', 'RDEF3_N', 'RDEF3_Y', 'RDEF3_nan', 'RDEF7_C', 'RDEF7_N', 'RDEF7_Y', 'RDEF7_nan', 'RDEF1_C', 'RDEF1_N', 'RDEF1_Y', 'RDEF1_nan', 'RDEF2_C', 'RDEF2_N', 'RDEF2_Y', 'RDEF2_nan']\n",
      "RCONSC_D  RCONSC_F  RCONSC_U  RCONSC_nan  RDEF6_C  RDEF6_N  RDEF6_Y  RDEF6_nan  RDEF5_C  RDEF5_N  RDEF5_Y  RDEF5_nan  STYPE_LACS  STYPE_OTH  STYPE_PACS  STYPE_POCS  STYPE_TACS  STYPE_nan  RDEF4_C  RDEF4_N  RDEF4_Y  RDEF4_nan  AGE  RDEF3_C  RDEF3_N  RDEF3_Y  RDEF3_nan  RDEF7_C  RDEF7_N  RDEF7_Y  RDEF7_nan  RDEF1_C  RDEF1_N  RDEF1_Y  RDEF1_nan  RDEF2_C  RDEF2_N  RDEF2_Y  RDEF2_nan\n",
      "0         0         1         0           0        0        1        0          0        0        1        0          0           0          0           0           1           0          0        0        1        0          65   0        0        1        0          0        1        0        0          0        0        1        0          0        0        1        0           -1.110749\n",
      "                                                                                                                                                                                                                                  73   0        0        1        0          0        1        0        0          0        0        1        0          0        0        1        0           -1.486332\n",
      "                                                                                                                                                         1           0           0          0        0        1        0          54   1        0        0        0          0        0        1        0          1        0        0        0          1        0        0        0           -0.426186\n",
      "                                                                                1        0        0        0          0           0          0           0           1           0          0        0        1        0          53   0        0        1        0          0        1        0        0          0        0        1        0          0        0        1        0           -0.753847\n",
      "                                                                                                                                                                                                                                  68   0        0        1        0          1        0        0        0          0        0        1        0          0        0        1        0           -1.550606\n",
      "                                                                                                                                                                                                                                                                                                                                                                                                   ...   \n",
      "1         0         0         0           1        0        0        0          1        0        0        0          0           0          1           0           0           0          1        0        0        0          92   0        0        1        0          1        0        0        0          0        0        1        0          0        0        1        0           -1.558125\n",
      "                                                                                                                                                                                                                                                                                                                            1        0        0          0        0        1        0           -1.461280\n",
      "                                                                                                                                                                                                                                  93   0        0        1        0          1        0        0        0          0        0        1        0          0        0        1        0           -1.812348\n",
      "                                                                                                                                                                                                                                       1        0        0        0          1        0        0        0          0        0        1        0          0        0        1        0           -1.600400\n",
      "                                                                                                                                                                                                                                  95   0        0        1        0          1        0        0        0          0        0        1        0          0        0        1        0           -1.631155\n",
      "Name: mu_0, Length: 3268, dtype: float64\n"
     ]
    },
    {
     "name": "stdout",
     "output_type": "stream",
     "text": [
      "['RCONSC_D', 'RCONSC_F', 'RCONSC_U', 'RCONSC_nan', 'RDEF6_C', 'RDEF6_N', 'RDEF6_Y', 'RDEF6_nan', 'RDEF5_C', 'RDEF5_N', 'RDEF5_Y', 'RDEF5_nan', 'STYPE_LACS', 'STYPE_OTH', 'STYPE_PACS', 'STYPE_POCS', 'STYPE_TACS', 'STYPE_nan', 'RDEF4_C', 'RDEF4_N', 'RDEF4_Y', 'RDEF4_nan', 'AGE', 'RDEF3_C', 'RDEF3_N', 'RDEF3_Y', 'RDEF3_nan', 'RDEF7_C', 'RDEF7_N', 'RDEF7_Y', 'RDEF7_nan', 'RDEF1_C', 'RDEF1_N', 'RDEF1_Y', 'RDEF1_nan', 'RDEF2_C', 'RDEF2_N', 'RDEF2_Y', 'RDEF2_nan', 'RDEF8_C', 'RDEF8_N', 'RDEF8_Y', 'RDEF8_nan']\n",
      "RCONSC_D  RCONSC_F  RCONSC_U  RCONSC_nan  RDEF6_C  RDEF6_N  RDEF6_Y  RDEF6_nan  RDEF5_C  RDEF5_N  RDEF5_Y  RDEF5_nan  STYPE_LACS  STYPE_OTH  STYPE_PACS  STYPE_POCS  STYPE_TACS  STYPE_nan  RDEF4_C  RDEF4_N  RDEF4_Y  RDEF4_nan  AGE  RDEF3_C  RDEF3_N  RDEF3_Y  RDEF3_nan  RDEF7_C  RDEF7_N  RDEF7_Y  RDEF7_nan  RDEF1_C  RDEF1_N  RDEF1_Y  RDEF1_nan  RDEF2_C  RDEF2_N  RDEF2_Y  RDEF2_nan  RDEF8_C  RDEF8_N  RDEF8_Y  RDEF8_nan\n",
      "0         0         1         0           0        0        1        0          0        0        1        0          0           0          0           0           1           0          0        0        1        0          65   0        0        1        0          0        1        0        0          0        0        1        0          0        0        1        0          0        1        0        0           -1.110749\n",
      "                                                                                                                                                                                                                                  73   0        0        1        0          0        1        0        0          0        0        1        0          0        0        1        0          0        1        0        0           -1.486332\n",
      "                                                                                                                                                         1           0           0          0        0        1        0          54   1        0        0        0          0        0        1        0          1        0        0        0          1        0        0        0          0        1        0        0           -0.426186\n",
      "                                                                                1        0        0        0          0           0          0           0           1           0          0        0        1        0          53   0        0        1        0          0        1        0        0          0        0        1        0          0        0        1        0          0        0        1        0           -0.753847\n",
      "                                                                                                                                                                                                                                  68   0        0        1        0          1        0        0        0          0        0        1        0          0        0        1        0          0        0        1        0           -1.550606\n",
      "                                                                                                                                                                                                                                                                                                                                                                                                                                         ...   \n",
      "1         0         0         0           1        0        0        0          1        0        0        0          0           0          1           0           0           0          1        0        0        0          92   0        0        1        0          1        0        0        0          0        0        1        0          0        0        1        0          1        0        0        0           -1.558125\n",
      "                                                                                                                                                                                                                                                                                                                            1        0        0          0        0        1        0          0        1        0        0           -1.461280\n",
      "                                                                                                                                                                                                                                  93   0        0        1        0          1        0        0        0          0        0        1        0          0        0        1        0          1        0        0        0           -1.812348\n",
      "                                                                                                                                                                                                                                       1        0        0        0          1        0        0        0          0        0        1        0          0        0        1        0          1        0        0        0           -1.600400\n",
      "                                                                                                                                                                                                                                  95   0        0        1        0          1        0        0        0          0        0        1        0          0        0        1        0          1        0        0        0           -1.631155\n",
      "Name: mu_0, Length: 3575, dtype: float64\n",
      "['RCONSC_D', 'RCONSC_F', 'RCONSC_U', 'RCONSC_nan', 'RDEF6_C', 'RDEF6_N', 'RDEF6_Y', 'RDEF6_nan', 'RDEF5_C', 'RDEF5_N', 'RDEF5_Y', 'RDEF5_nan', 'STYPE_LACS', 'STYPE_OTH', 'STYPE_PACS', 'STYPE_POCS', 'STYPE_TACS', 'STYPE_nan', 'RDEF4_C', 'RDEF4_N', 'RDEF4_Y', 'RDEF4_nan', 'AGE', 'RDEF3_C', 'RDEF3_N', 'RDEF3_Y', 'RDEF3_nan', 'RDEF7_C', 'RDEF7_N', 'RDEF7_Y', 'RDEF7_nan', 'RDEF1_C', 'RDEF1_N', 'RDEF1_Y', 'RDEF1_nan', 'RDEF2_C', 'RDEF2_N', 'RDEF2_Y', 'RDEF2_nan', 'RDEF8_C', 'RDEF8_N', 'RDEF8_Y', 'RDEF8_nan', 'RATRIAL_N', 'RATRIAL_Y', 'RATRIAL_nan']\n",
      "RCONSC_D  RCONSC_F  RCONSC_U  RCONSC_nan  RDEF6_C  RDEF6_N  RDEF6_Y  RDEF6_nan  RDEF5_C  RDEF5_N  RDEF5_Y  RDEF5_nan  STYPE_LACS  STYPE_OTH  STYPE_PACS  STYPE_POCS  STYPE_TACS  STYPE_nan  RDEF4_C  RDEF4_N  RDEF4_Y  RDEF4_nan  AGE  RDEF3_C  RDEF3_N  RDEF3_Y  RDEF3_nan  RDEF7_C  RDEF7_N  RDEF7_Y  RDEF7_nan  RDEF1_C  RDEF1_N  RDEF1_Y  RDEF1_nan  RDEF2_C  RDEF2_N  RDEF2_Y  RDEF2_nan  RDEF8_C  RDEF8_N  RDEF8_Y  RDEF8_nan  RATRIAL_N  RATRIAL_Y  RATRIAL_nan\n",
      "0         0         1         0           0        0        1        0          0        0        1        0          0           0          0           0           1           0          0        0        1        0          65   0        0        1        0          0        1        0        0          0        0        1        0          0        0        1        0          0        1        0        0          0          1          0             -1.110749\n",
      "                                                                                                                                                                                                                                  73   0        0        1        0          0        1        0        0          0        0        1        0          0        0        1        0          0        1        0        0          0          1          0             -1.486332\n",
      "                                                                                                                                                         1           0           0          0        0        1        0          54   1        0        0        0          0        0        1        0          1        0        0        0          1        0        0        0          0        1        0        0          1          0          0             -0.426186\n",
      "                                                                                1        0        0        0          0           0          0           0           1           0          0        0        1        0          53   0        0        1        0          0        1        0        0          0        0        1        0          0        0        1        0          0        0        1        0          1          0          0             -0.753847\n",
      "                                                                                                                                                                                                                                  68   0        0        1        0          1        0        0        0          0        0        1        0          0        0        1        0          0        0        1        0          1          0          0             -1.550606\n",
      "                                                                                                                                                                                                                                                                                                                                                                                                                                                                            ...   \n",
      "1         0         0         0           1        0        0        0          1        0        0        0          0           0          1           0           0           0          1        0        0        0          92   0        0        1        0          1        0        0        0          0        0        1        0          0        0        1        0          1        0        0        0          0          1          0             -1.558125\n",
      "                                                                                                                                                                                                                                                                                                                            1        0        0          0        0        1        0          0        1        0        0          0          1          0             -1.461280\n",
      "                                                                                                                                                                                                                                  93   0        0        1        0          1        0        0        0          0        0        1        0          0        0        1        0          1        0        0        0          0          1          0             -1.812348\n",
      "                                                                                                                                                                                                                                       1        0        0        0          1        0        0        0          0        0        1        0          0        0        1        0          1        0        0        0          1          0          0             -1.600400\n",
      "                                                                                                                                                                                                                                  95   0        0        1        0          1        0        0        0          0        0        1        0          0        0        1        0          1        0        0        0          0          1          0             -1.631155\n",
      "Name: mu_0, Length: 4195, dtype: float64\n"
     ]
    },
    {
     "name": "stdout",
     "output_type": "stream",
     "text": [
      "['RCONSC_D', 'RCONSC_F', 'RCONSC_U', 'RCONSC_nan', 'RDEF6_C', 'RDEF6_N', 'RDEF6_Y', 'RDEF6_nan', 'RDEF5_C', 'RDEF5_N', 'RDEF5_Y', 'RDEF5_nan', 'STYPE_LACS', 'STYPE_OTH', 'STYPE_PACS', 'STYPE_POCS', 'STYPE_TACS', 'STYPE_nan', 'RDEF4_C', 'RDEF4_N', 'RDEF4_Y', 'RDEF4_nan', 'AGE', 'RDEF3_C', 'RDEF3_N', 'RDEF3_Y', 'RDEF3_nan', 'RDEF7_C', 'RDEF7_N', 'RDEF7_Y', 'RDEF7_nan', 'RDEF1_C', 'RDEF1_N', 'RDEF1_Y', 'RDEF1_nan', 'RDEF2_C', 'RDEF2_N', 'RDEF2_Y', 'RDEF2_nan', 'RDEF8_C', 'RDEF8_N', 'RDEF8_Y', 'RDEF8_nan', 'RATRIAL_N', 'RATRIAL_Y', 'RATRIAL_nan', 'SEX_F', 'SEX_M', 'SEX_nan']\n",
      "RCONSC_D  RCONSC_F  RCONSC_U  RCONSC_nan  RDEF6_C  RDEF6_N  RDEF6_Y  RDEF6_nan  RDEF5_C  RDEF5_N  RDEF5_Y  RDEF5_nan  STYPE_LACS  STYPE_OTH  STYPE_PACS  STYPE_POCS  STYPE_TACS  STYPE_nan  RDEF4_C  RDEF4_N  RDEF4_Y  RDEF4_nan  AGE  RDEF3_C  RDEF3_N  RDEF3_Y  RDEF3_nan  RDEF7_C  RDEF7_N  RDEF7_Y  RDEF7_nan  RDEF1_C  RDEF1_N  RDEF1_Y  RDEF1_nan  RDEF2_C  RDEF2_N  RDEF2_Y  RDEF2_nan  RDEF8_C  RDEF8_N  RDEF8_Y  RDEF8_nan  RATRIAL_N  RATRIAL_Y  RATRIAL_nan  SEX_F  SEX_M  SEX_nan\n",
      "0         0         1         0           0        0        1        0          0        0        1        0          0           0          0           0           1           0          0        0        1        0          65   0        0        1        0          0        1        0        0          0        0        1        0          0        0        1        0          0        1        0        0          0          1          0            0      1      0         -1.110749\n",
      "                                                                                                                                                                                                                                  73   0        0        1        0          0        1        0        0          0        0        1        0          0        0        1        0          0        1        0        0          0          1          0            1      0      0         -1.486332\n",
      "                                                                                                                                                         1           0           0          0        0        1        0          54   1        0        0        0          0        0        1        0          1        0        0        0          1        0        0        0          0        1        0        0          1          0          0            0      1      0         -0.426186\n",
      "                                                                                1        0        0        0          0           0          0           0           1           0          0        0        1        0          53   0        0        1        0          0        1        0        0          0        0        1        0          0        0        1        0          0        0        1        0          1          0          0            0      1      0         -0.753847\n",
      "                                                                                                                                                                                                                                  68   0        0        1        0          1        0        0        0          0        0        1        0          0        0        1        0          0        0        1        0          1          0          0            1      0      0         -1.550606\n",
      "                                                                                                                                                                                                                                                                                                                                                                                                                                                                                                   ...   \n",
      "1         0         0         0           1        0        0        0          1        0        0        0          0           0          1           0           0           0          1        0        0        0          92   0        0        1        0          1        0        0        0          0        0        1        0          0        0        1        0          1        0        0        0          0          1          0            0      1      0         -1.558125\n",
      "                                                                                                                                                                                                                                                                                                                            1        0        0          0        0        1        0          0        1        0        0          0          1          0            1      0      0         -1.461280\n",
      "                                                                                                                                                                                                                                  93   0        0        1        0          1        0        0        0          0        0        1        0          0        0        1        0          1        0        0        0          0          1          0            1      0      0         -1.812348\n",
      "                                                                                                                                                                                                                                       1        0        0        0          1        0        0        0          0        0        1        0          0        0        1        0          1        0        0        0          1          0          0            1      0      0         -1.600400\n",
      "                                                                                                                                                                                                                                  95   0        0        1        0          1        0        0        0          0        0        1        0          0        0        1        0          1        0        0        0          0          1          0            1      0      0         -1.631155\n",
      "Name: mu_0, Length: 4845, dtype: float64\n",
      "['RCONSC_D', 'RCONSC_F', 'RCONSC_U', 'RCONSC_nan', 'RDEF6_C', 'RDEF6_N', 'RDEF6_Y', 'RDEF6_nan', 'RDEF5_C', 'RDEF5_N', 'RDEF5_Y', 'RDEF5_nan', 'STYPE_LACS', 'STYPE_OTH', 'STYPE_PACS', 'STYPE_POCS', 'STYPE_TACS', 'STYPE_nan', 'RDEF4_C', 'RDEF4_N', 'RDEF4_Y', 'RDEF4_nan', 'AGE', 'RDEF3_C', 'RDEF3_N', 'RDEF3_Y', 'RDEF3_nan', 'RDEF7_C', 'RDEF7_N', 'RDEF7_Y', 'RDEF7_nan', 'RDEF1_C', 'RDEF1_N', 'RDEF1_Y', 'RDEF1_nan', 'RDEF2_C', 'RDEF2_N', 'RDEF2_Y', 'RDEF2_nan', 'RDEF8_C', 'RDEF8_N', 'RDEF8_Y', 'RDEF8_nan', 'RATRIAL_N', 'RATRIAL_Y', 'RATRIAL_nan', 'SEX_F', 'SEX_M', 'SEX_nan', 'RSBP']\n",
      "RCONSC_D  RCONSC_F  RCONSC_U  RCONSC_nan  RDEF6_C  RDEF6_N  RDEF6_Y  RDEF6_nan  RDEF5_C  RDEF5_N  RDEF5_Y  RDEF5_nan  STYPE_LACS  STYPE_OTH  STYPE_PACS  STYPE_POCS  STYPE_TACS  STYPE_nan  RDEF4_C  RDEF4_N  RDEF4_Y  RDEF4_nan  AGE  RDEF3_C  RDEF3_N  RDEF3_Y  RDEF3_nan  RDEF7_C  RDEF7_N  RDEF7_Y  RDEF7_nan  RDEF1_C  RDEF1_N  RDEF1_Y  RDEF1_nan  RDEF2_C  RDEF2_N  RDEF2_Y  RDEF2_nan  RDEF8_C  RDEF8_N  RDEF8_Y  RDEF8_nan  RATRIAL_N  RATRIAL_Y  RATRIAL_nan  SEX_F  SEX_M  SEX_nan  RSBP\n",
      "0         0         1         0           0        0        1        0          0        0        1        0          0           0          0           0           1           0          0        0        1        0          65   0        0        1        0          0        1        0        0          0        0        1        0          0        0        1        0          0        1        0        0          0          1          0            0      1      0        135    -1.110749\n",
      "                                                                                                                                                                                                                                  73   0        0        1        0          0        1        0        0          0        0        1        0          0        0        1        0          0        1        0        0          0          1          0            1      0      0        190    -1.486332\n",
      "                                                                                                                                                         1           0           0          0        0        1        0          54   1        0        0        0          0        0        1        0          1        0        0        0          1        0        0        0          0        1        0        0          1          0          0            0      1      0        145    -0.426186\n",
      "                                                                                1        0        0        0          0           0          0           0           1           0          0        0        1        0          53   0        0        1        0          0        1        0        0          0        0        1        0          0        0        1        0          0        0        1        0          1          0          0            0      1      0        185    -0.753847\n",
      "                                                                                                                                                                                                                                  68   0        0        1        0          1        0        0        0          0        0        1        0          0        0        1        0          0        0        1        0          1          0          0            1      0      0        160    -1.550606\n",
      "                                                                                                                                                                                                                                                                                                                                                                                                                                                                                                         ...   \n",
      "1         0         0         0           1        0        0        0          1        0        0        0          0           0          1           0           0           0          1        0        0        0          92   0        0        1        0          1        0        0        0          0        0        1        0          0        0        1        0          1        0        0        0          0          1          0            0      1      0        145    -1.558125\n",
      "                                                                                                                                                                                                                                                                                                                            1        0        0          0        0        1        0          0        1        0        0          0          1          0            1      0      0        140    -1.461280\n",
      "                                                                                                                                                                                                                                  93   0        0        1        0          1        0        0        0          0        0        1        0          0        0        1        0          1        0        0        0          0          1          0            1      0      0        180    -1.812348\n",
      "                                                                                                                                                                                                                                       1        0        0        0          1        0        0        0          0        0        1        0          0        0        1        0          1        0        0        0          1          0          0            1      0      0        170    -1.600400\n",
      "                                                                                                                                                                                                                                  95   0        0        1        0          1        0        0        0          0        0        1        0          0        0        1        0          1        0        0        0          0          1          0            1      0      0        200    -1.631155\n",
      "Name: mu_0, Length: 6681, dtype: float64\n"
     ]
    },
    {
     "name": "stdout",
     "output_type": "stream",
     "text": [
      "['RCONSC_D', 'RCONSC_F', 'RCONSC_U', 'RCONSC_nan', 'RDEF6_C', 'RDEF6_N', 'RDEF6_Y', 'RDEF6_nan', 'RDEF5_C', 'RDEF5_N', 'RDEF5_Y', 'RDEF5_nan', 'STYPE_LACS', 'STYPE_OTH', 'STYPE_PACS', 'STYPE_POCS', 'STYPE_TACS', 'STYPE_nan', 'RDEF4_C', 'RDEF4_N', 'RDEF4_Y', 'RDEF4_nan', 'AGE', 'RDEF3_C', 'RDEF3_N', 'RDEF3_Y', 'RDEF3_nan', 'RDEF7_C', 'RDEF7_N', 'RDEF7_Y', 'RDEF7_nan', 'RDEF1_C', 'RDEF1_N', 'RDEF1_Y', 'RDEF1_nan', 'RDEF2_C', 'RDEF2_N', 'RDEF2_Y', 'RDEF2_nan', 'RDEF8_C', 'RDEF8_N', 'RDEF8_Y', 'RDEF8_nan', 'RATRIAL_N', 'RATRIAL_Y', 'RATRIAL_nan', 'SEX_F', 'SEX_M', 'SEX_nan', 'RSBP', 'RDELAY']\n",
      "RCONSC_D  RCONSC_F  RCONSC_U  RCONSC_nan  RDEF6_C  RDEF6_N  RDEF6_Y  RDEF6_nan  RDEF5_C  RDEF5_N  RDEF5_Y  RDEF5_nan  STYPE_LACS  STYPE_OTH  STYPE_PACS  STYPE_POCS  STYPE_TACS  STYPE_nan  RDEF4_C  RDEF4_N  RDEF4_Y  RDEF4_nan  AGE  RDEF3_C  RDEF3_N  RDEF3_Y  RDEF3_nan  RDEF7_C  RDEF7_N  RDEF7_Y  RDEF7_nan  RDEF1_C  RDEF1_N  RDEF1_Y  RDEF1_nan  RDEF2_C  RDEF2_N  RDEF2_Y  RDEF2_nan  RDEF8_C  RDEF8_N  RDEF8_Y  RDEF8_nan  RATRIAL_N  RATRIAL_Y  RATRIAL_nan  SEX_F  SEX_M  SEX_nan  RSBP  RDELAY\n",
      "0         0         1         0           0        0        1        0          0        0        1        0          0           0          0           0           1           0          0        0        1        0          65   0        0        1        0          0        1        0        0          0        0        1        0          0        0        1        0          0        1        0        0          0          1          0            0      1      0        135   4        -1.110749\n",
      "                                                                                                                                                                                                                                  73   0        0        1        0          0        1        0        0          0        0        1        0          0        0        1        0          0        1        0        0          0          1          0            1      0      0        190   6        -1.486332\n",
      "                                                                                                                                                         1           0           0          0        0        1        0          54   1        0        0        0          0        0        1        0          1        0        0        0          1        0        0        0          0        1        0        0          1          0          0            0      1      0        145   3        -0.426186\n",
      "                                                                                1        0        0        0          0           0          0           0           1           0          0        0        1        0          53   0        0        1        0          0        1        0        0          0        0        1        0          0        0        1        0          0        0        1        0          1          0          0            0      1      0        185   3        -0.753847\n",
      "                                                                                                                                                                                                                                  68   0        0        1        0          1        0        0        0          0        0        1        0          0        0        1        0          0        0        1        0          1          0          0            1      0      0        160   28       -1.550606\n",
      "                                                                                                                                                                                                                                                                                                                                                                                                                                                                                                                 ...   \n",
      "1         0         0         0           1        0        0        0          1        0        0        0          0           0          1           0           0           0          1        0        0        0          92   0        0        1        0          1        0        0        0          0        0        1        0          0        0        1        0          1        0        0        0          0          1          0            0      1      0        145   12       -1.558125\n",
      "                                                                                                                                                                                                                                                                                                                            1        0        0          0        0        1        0          0        1        0        0          0          1          0            1      0      0        140   33       -1.461280\n",
      "                                                                                                                                                                                                                                  93   0        0        1        0          1        0        0        0          0        0        1        0          0        0        1        0          1        0        0        0          0          1          0            1      0      0        180   4        -1.812348\n",
      "                                                                                                                                                                                                                                       1        0        0        0          1        0        0        0          0        0        1        0          0        0        1        0          1        0        0        0          1          0          0            1      0      0        170   24       -1.600400\n",
      "                                                                                                                                                                                                                                  95   0        0        1        0          1        0        0        0          0        0        1        0          0        0        1        0          1        0        0        0          0          1          0            1      0      0        200   7        -1.631155\n",
      "Name: mu_0, Length: 7246, dtype: float64\n",
      "['RCONSC_D', 'RCONSC_F', 'RCONSC_U', 'RCONSC_nan', 'RDEF6_C', 'RDEF6_N', 'RDEF6_Y', 'RDEF6_nan', 'RDEF5_C', 'RDEF5_N', 'RDEF5_Y', 'RDEF5_nan', 'STYPE_LACS', 'STYPE_OTH', 'STYPE_PACS', 'STYPE_POCS', 'STYPE_TACS', 'STYPE_nan', 'RDEF4_C', 'RDEF4_N', 'RDEF4_Y', 'RDEF4_nan', 'AGE', 'RDEF3_C', 'RDEF3_N', 'RDEF3_Y', 'RDEF3_nan', 'RDEF7_C', 'RDEF7_N', 'RDEF7_Y', 'RDEF7_nan', 'RDEF1_C', 'RDEF1_N', 'RDEF1_Y', 'RDEF1_nan', 'RDEF2_C', 'RDEF2_N', 'RDEF2_Y', 'RDEF2_nan', 'RDEF8_C', 'RDEF8_N', 'RDEF8_Y', 'RDEF8_nan', 'RATRIAL_N', 'RATRIAL_Y', 'RATRIAL_nan', 'SEX_F', 'SEX_M', 'SEX_nan', 'RSBP', 'RDELAY', 'RVISINF_N', 'RVISINF_Y', 'RVISINF_nan']\n",
      "RCONSC_D  RCONSC_F  RCONSC_U  RCONSC_nan  RDEF6_C  RDEF6_N  RDEF6_Y  RDEF6_nan  RDEF5_C  RDEF5_N  RDEF5_Y  RDEF5_nan  STYPE_LACS  STYPE_OTH  STYPE_PACS  STYPE_POCS  STYPE_TACS  STYPE_nan  RDEF4_C  RDEF4_N  RDEF4_Y  RDEF4_nan  AGE  RDEF3_C  RDEF3_N  RDEF3_Y  RDEF3_nan  RDEF7_C  RDEF7_N  RDEF7_Y  RDEF7_nan  RDEF1_C  RDEF1_N  RDEF1_Y  RDEF1_nan  RDEF2_C  RDEF2_N  RDEF2_Y  RDEF2_nan  RDEF8_C  RDEF8_N  RDEF8_Y  RDEF8_nan  RATRIAL_N  RATRIAL_Y  RATRIAL_nan  SEX_F  SEX_M  SEX_nan  RSBP  RDELAY  RVISINF_N  RVISINF_Y  RVISINF_nan\n",
      "0         0         1         0           0        0        1        0          0        0        1        0          0           0          0           0           1           0          0        0        1        0          65   0        0        1        0          0        1        0        0          0        0        1        0          0        0        1        0          0        1        0        0          0          1          0            0      1      0        135   4       1          0          0             -1.110749\n",
      "                                                                                                                                                                                                                                  73   0        0        1        0          0        1        0        0          0        0        1        0          0        0        1        0          0        1        0        0          0          1          0            1      0      0        190   6       0          1          0             -1.486332\n",
      "                                                                                                                                                         1           0           0          0        0        1        0          54   1        0        0        0          0        0        1        0          1        0        0        0          1        0        0        0          0        1        0        0          1          0          0            0      1      0        145   3       0          1          0             -0.426186\n",
      "                                                                                1        0        0        0          0           0          0           0           1           0          0        0        1        0          53   0        0        1        0          0        1        0        0          0        0        1        0          0        0        1        0          0        0        1        0          1          0          0            0      1      0        185   3       1          0          0             -0.753847\n",
      "                                                                                                                                                                                                                                  68   0        0        1        0          1        0        0        0          0        0        1        0          0        0        1        0          0        0        1        0          1          0          0            1      0      0        160   28      0          1          0             -1.550606\n",
      "                                                                                                                                                                                                                                                                                                                                                                                                                                                                                                                                                    ...   \n",
      "1         0         0         0           1        0        0        0          1        0        0        0          0           0          1           0           0           0          1        0        0        0          92   0        0        1        0          1        0        0        0          0        0        1        0          0        0        1        0          1        0        0        0          0          1          0            0      1      0        145   12      1          0          0             -1.558125\n",
      "                                                                                                                                                                                                                                                                                                                            1        0        0          0        0        1        0          0        1        0        0          0          1          0            1      0      0        140   33      1          0          0             -1.461280\n",
      "                                                                                                                                                                                                                                  93   0        0        1        0          1        0        0        0          0        0        1        0          0        0        1        0          1        0        0        0          0          1          0            1      0      0        180   4       0          1          0             -1.812348\n",
      "                                                                                                                                                                                                                                       1        0        0        0          1        0        0        0          0        0        1        0          0        0        1        0          1        0        0        0          1          0          0            1      0      0        170   24      0          1          0             -1.600400\n",
      "                                                                                                                                                                                                                                  95   0        0        1        0          1        0        0        0          0        0        1        0          0        0        1        0          1        0        0        0          0          1          0            1      0      0        200   7       1          0          0             -1.631155\n",
      "Name: mu_0, Length: 7258, dtype: float64\n"
     ]
    },
    {
     "name": "stdout",
     "output_type": "stream",
     "text": [
      "['RCONSC_D', 'RCONSC_F', 'RCONSC_U', 'RCONSC_nan', 'RDEF6_C', 'RDEF6_N', 'RDEF6_Y', 'RDEF6_nan', 'RDEF5_C', 'RDEF5_N', 'RDEF5_Y', 'RDEF5_nan', 'STYPE_LACS', 'STYPE_OTH', 'STYPE_PACS', 'STYPE_POCS', 'STYPE_TACS', 'STYPE_nan', 'RDEF4_C', 'RDEF4_N', 'RDEF4_Y', 'RDEF4_nan', 'AGE', 'RDEF3_C', 'RDEF3_N', 'RDEF3_Y', 'RDEF3_nan', 'RDEF7_C', 'RDEF7_N', 'RDEF7_Y', 'RDEF7_nan', 'RDEF1_C', 'RDEF1_N', 'RDEF1_Y', 'RDEF1_nan', 'RDEF2_C', 'RDEF2_N', 'RDEF2_Y', 'RDEF2_nan', 'RDEF8_C', 'RDEF8_N', 'RDEF8_Y', 'RDEF8_nan', 'RATRIAL_N', 'RATRIAL_Y', 'RATRIAL_nan', 'SEX_F', 'SEX_M', 'SEX_nan', 'RSBP', 'RDELAY', 'RVISINF_N', 'RVISINF_Y', 'RVISINF_nan', 'RCT_N', 'RCT_Y', 'RCT_nan']\n",
      "RCONSC_D  RCONSC_F  RCONSC_U  RCONSC_nan  RDEF6_C  RDEF6_N  RDEF6_Y  RDEF6_nan  RDEF5_C  RDEF5_N  RDEF5_Y  RDEF5_nan  STYPE_LACS  STYPE_OTH  STYPE_PACS  STYPE_POCS  STYPE_TACS  STYPE_nan  RDEF4_C  RDEF4_N  RDEF4_Y  RDEF4_nan  AGE  RDEF3_C  RDEF3_N  RDEF3_Y  RDEF3_nan  RDEF7_C  RDEF7_N  RDEF7_Y  RDEF7_nan  RDEF1_C  RDEF1_N  RDEF1_Y  RDEF1_nan  RDEF2_C  RDEF2_N  RDEF2_Y  RDEF2_nan  RDEF8_C  RDEF8_N  RDEF8_Y  RDEF8_nan  RATRIAL_N  RATRIAL_Y  RATRIAL_nan  SEX_F  SEX_M  SEX_nan  RSBP  RDELAY  RVISINF_N  RVISINF_Y  RVISINF_nan  RCT_N  RCT_Y  RCT_nan\n",
      "0         0         1         0           0        0        1        0          0        0        1        0          0           0          0           0           1           0          0        0        1        0          65   0        0        1        0          0        1        0        0          0        0        1        0          0        0        1        0          0        1        0        0          0          1          0            0      1      0        135   4       1          0          0            0      1      0         -1.110749\n",
      "                                                                                                                                                                                                                                  73   0        0        1        0          0        1        0        0          0        0        1        0          0        0        1        0          0        1        0        0          0          1          0            1      0      0        190   6       0          1          0            0      1      0         -1.486332\n",
      "                                                                                                                                                         1           0           0          0        0        1        0          54   1        0        0        0          0        0        1        0          1        0        0        0          1        0        0        0          0        1        0        0          1          0          0            0      1      0        145   3       0          1          0            0      1      0         -0.426186\n",
      "                                                                                1        0        0        0          0           0          0           0           1           0          0        0        1        0          53   0        0        1        0          0        1        0        0          0        0        1        0          0        0        1        0          0        0        1        0          1          0          0            0      1      0        185   3       1          0          0            0      1      0         -0.753847\n",
      "                                                                                                                                                                                                                                  68   0        0        1        0          1        0        0        0          0        0        1        0          0        0        1        0          0        0        1        0          1          0          0            1      0      0        160   28      0          1          0            0      1      0         -1.550606\n",
      "                                                                                                                                                                                                                                                                                                                                                                                                                                                                                                                                                                           ...   \n",
      "1         0         0         0           1        0        0        0          1        0        0        0          0           0          1           0           0           0          1        0        0        0          92   0        0        1        0          1        0        0        0          0        0        1        0          0        0        1        0          1        0        0        0          0          1          0            0      1      0        145   12      1          0          0            0      1      0         -1.558125\n",
      "                                                                                                                                                                                                                                                                                                                            1        0        0          0        0        1        0          0        1        0        0          0          1          0            1      0      0        140   33      1          0          0            0      1      0         -1.461280\n",
      "                                                                                                                                                                                                                                  93   0        0        1        0          1        0        0        0          0        0        1        0          0        0        1        0          1        0        0        0          0          1          0            1      0      0        180   4       0          1          0            0      1      0         -1.812348\n",
      "                                                                                                                                                                                                                                       1        0        0        0          1        0        0        0          0        0        1        0          0        0        1        0          1        0        0        0          1          0          0            1      0      0        170   24      0          1          0            0      1      0         -1.600400\n",
      "                                                                                                                                                                                                                                  95   0        0        1        0          1        0        0        0          0        0        1        0          0        0        1        0          1        0        0        0          0          1          0            1      0      0        200   7       1          0          0            0      1      0         -1.631155\n",
      "Name: mu_0, Length: 7262, dtype: float64\n",
      "['RCONSC_D', 'RCONSC_F', 'RCONSC_U', 'RCONSC_nan', 'RDEF6_C', 'RDEF6_N', 'RDEF6_Y', 'RDEF6_nan', 'RDEF5_C', 'RDEF5_N', 'RDEF5_Y', 'RDEF5_nan', 'STYPE_LACS', 'STYPE_OTH', 'STYPE_PACS', 'STYPE_POCS', 'STYPE_TACS', 'STYPE_nan', 'RDEF4_C', 'RDEF4_N', 'RDEF4_Y', 'RDEF4_nan', 'AGE', 'RDEF3_C', 'RDEF3_N', 'RDEF3_Y', 'RDEF3_nan', 'RDEF7_C', 'RDEF7_N', 'RDEF7_Y', 'RDEF7_nan', 'RDEF1_C', 'RDEF1_N', 'RDEF1_Y', 'RDEF1_nan', 'RDEF2_C', 'RDEF2_N', 'RDEF2_Y', 'RDEF2_nan', 'RDEF8_C', 'RDEF8_N', 'RDEF8_Y', 'RDEF8_nan', 'RATRIAL_N', 'RATRIAL_Y', 'RATRIAL_nan', 'SEX_F', 'SEX_M', 'SEX_nan', 'RSBP', 'RDELAY', 'RVISINF_N', 'RVISINF_Y', 'RVISINF_nan', 'RCT_N', 'RCT_Y', 'RCT_nan', 'RSLEEP_N', 'RSLEEP_Y', 'RSLEEP_nan']\n",
      "RCONSC_D  RCONSC_F  RCONSC_U  RCONSC_nan  RDEF6_C  RDEF6_N  RDEF6_Y  RDEF6_nan  RDEF5_C  RDEF5_N  RDEF5_Y  RDEF5_nan  STYPE_LACS  STYPE_OTH  STYPE_PACS  STYPE_POCS  STYPE_TACS  STYPE_nan  RDEF4_C  RDEF4_N  RDEF4_Y  RDEF4_nan  AGE  RDEF3_C  RDEF3_N  RDEF3_Y  RDEF3_nan  RDEF7_C  RDEF7_N  RDEF7_Y  RDEF7_nan  RDEF1_C  RDEF1_N  RDEF1_Y  RDEF1_nan  RDEF2_C  RDEF2_N  RDEF2_Y  RDEF2_nan  RDEF8_C  RDEF8_N  RDEF8_Y  RDEF8_nan  RATRIAL_N  RATRIAL_Y  RATRIAL_nan  SEX_F  SEX_M  SEX_nan  RSBP  RDELAY  RVISINF_N  RVISINF_Y  RVISINF_nan  RCT_N  RCT_Y  RCT_nan  RSLEEP_N  RSLEEP_Y  RSLEEP_nan\n",
      "0         0         1         0           0        0        1        0          0        0        1        0          0           0          0           0           1           0          0        0        1        0          65   0        0        1        0          0        1        0        0          0        0        1        0          0        0        1        0          0        1        0        0          0          1          0            0      1      0        135   4       1          0          0            0      1      0        1         0         0            -1.110749\n",
      "                                                                                                                                                                                                                                  73   0        0        1        0          0        1        0        0          0        0        1        0          0        0        1        0          0        1        0        0          0          1          0            1      0      0        190   6       0          1          0            0      1      0        1         0         0            -1.486332\n",
      "                                                                                                                                                         1           0           0          0        0        1        0          54   1        0        0        0          0        0        1        0          1        0        0        0          1        0        0        0          0        1        0        0          1          0          0            0      1      0        145   3       0          1          0            0      1      0        1         0         0            -0.426186\n",
      "                                                                                1        0        0        0          0           0          0           0           1           0          0        0        1        0          53   0        0        1        0          0        1        0        0          0        0        1        0          0        0        1        0          0        0        1        0          1          0          0            0      1      0        185   3       1          0          0            0      1      0        1         0         0            -0.753847\n",
      "                                                                                                                                                                                                                                  68   0        0        1        0          1        0        0        0          0        0        1        0          0        0        1        0          0        0        1        0          1          0          0            1      0      0        160   28      0          1          0            0      1      0        1         0         0            -1.550606\n",
      "                                                                                                                                                                                                                                                                                                                                                                                                                                                                                                                                                                                                           ...   \n",
      "1         0         0         0           1        0        0        0          1        0        0        0          0           0          1           0           0           0          1        0        0        0          92   0        0        1        0          1        0        0        0          0        0        1        0          0        0        1        0          1        0        0        0          0          1          0            0      1      0        145   12      1          0          0            0      1      0        1         0         0            -1.558125\n",
      "                                                                                                                                                                                                                                                                                                                            1        0        0          0        0        1        0          0        1        0        0          0          1          0            1      0      0        140   33      1          0          0            0      1      0        1         0         0            -1.461280\n",
      "                                                                                                                                                                                                                                  93   0        0        1        0          1        0        0        0          0        0        1        0          0        0        1        0          1        0        0        0          0          1          0            1      0      0        180   4       0          1          0            0      1      0        1         0         0            -1.812348\n",
      "                                                                                                                                                                                                                                       1        0        0        0          1        0        0        0          0        0        1        0          0        0        1        0          1        0        0        0          1          0          0            1      0      0        170   24      0          1          0            0      1      0        1         0         0            -1.600400\n",
      "                                                                                                                                                                                                                                  95   0        0        1        0          1        0        0        0          0        0        1        0          0        0        1        0          1        0        0        0          0          1          0            1      0      0        200   7       1          0          0            0      1      0        1         0         0            -1.631155\n",
      "Name: mu_0, Length: 7263, dtype: float64\n"
     ]
    },
    {
     "name": "stdout",
     "output_type": "stream",
     "text": [
      "['RCONSC_D', 'RCONSC_F', 'RCONSC_U', 'RCONSC_nan', 'RDEF6_C', 'RDEF6_N', 'RDEF6_Y', 'RDEF6_nan', 'RDEF5_C', 'RDEF5_N', 'RDEF5_Y', 'RDEF5_nan', 'STYPE_LACS', 'STYPE_OTH', 'STYPE_PACS', 'STYPE_POCS', 'STYPE_TACS', 'STYPE_nan', 'RDEF4_C', 'RDEF4_N', 'RDEF4_Y', 'RDEF4_nan', 'AGE', 'RDEF3_C', 'RDEF3_N', 'RDEF3_Y', 'RDEF3_nan', 'RDEF7_C', 'RDEF7_N', 'RDEF7_Y', 'RDEF7_nan', 'RDEF1_C', 'RDEF1_N', 'RDEF1_Y', 'RDEF1_nan', 'RDEF2_C', 'RDEF2_N', 'RDEF2_Y', 'RDEF2_nan', 'RDEF8_C', 'RDEF8_N', 'RDEF8_Y', 'RDEF8_nan', 'RATRIAL_N', 'RATRIAL_Y', 'RATRIAL_nan', 'SEX_F', 'SEX_M', 'SEX_nan', 'RSBP', 'RDELAY', 'RVISINF_N', 'RVISINF_Y', 'RVISINF_nan', 'RCT_N', 'RCT_Y', 'RCT_nan', 'RSLEEP_N', 'RSLEEP_Y', 'RSLEEP_nan', 'RASP3_N', 'RASP3_Y', 'RASP3_nan']\n",
      "RCONSC_D  RCONSC_F  RCONSC_U  RCONSC_nan  RDEF6_C  RDEF6_N  RDEF6_Y  RDEF6_nan  RDEF5_C  RDEF5_N  RDEF5_Y  RDEF5_nan  STYPE_LACS  STYPE_OTH  STYPE_PACS  STYPE_POCS  STYPE_TACS  STYPE_nan  RDEF4_C  RDEF4_N  RDEF4_Y  RDEF4_nan  AGE  RDEF3_C  RDEF3_N  RDEF3_Y  RDEF3_nan  RDEF7_C  RDEF7_N  RDEF7_Y  RDEF7_nan  RDEF1_C  RDEF1_N  RDEF1_Y  RDEF1_nan  RDEF2_C  RDEF2_N  RDEF2_Y  RDEF2_nan  RDEF8_C  RDEF8_N  RDEF8_Y  RDEF8_nan  RATRIAL_N  RATRIAL_Y  RATRIAL_nan  SEX_F  SEX_M  SEX_nan  RSBP  RDELAY  RVISINF_N  RVISINF_Y  RVISINF_nan  RCT_N  RCT_Y  RCT_nan  RSLEEP_N  RSLEEP_Y  RSLEEP_nan  RASP3_N  RASP3_Y  RASP3_nan\n",
      "0         0         1         0           0        0        1        0          0        0        1        0          0           0          0           0           1           0          0        0        1        0          65   0        0        1        0          0        1        0        0          0        0        1        0          0        0        1        0          0        1        0        0          0          1          0            0      1      0        135   4       1          0          0            0      1      0        1         0         0           1        0        0           -1.110749\n",
      "                                                                                                                                                                                                                                  73   0        0        1        0          0        1        0        0          0        0        1        0          0        0        1        0          0        1        0        0          0          1          0            1      0      0        190   6       0          1          0            0      1      0        1         0         0           1        0        0           -1.486332\n",
      "                                                                                                                                                         1           0           0          0        0        1        0          54   1        0        0        0          0        0        1        0          1        0        0        0          1        0        0        0          0        1        0        0          1          0          0            0      1      0        145   3       0          1          0            0      1      0        1         0         0           1        0        0           -0.426186\n",
      "                                                                                1        0        0        0          0           0          0           0           1           0          0        0        1        0          53   0        0        1        0          0        1        0        0          0        0        1        0          0        0        1        0          0        0        1        0          1          0          0            0      1      0        185   3       1          0          0            0      1      0        1         0         0           0        1        0           -0.753847\n",
      "                                                                                                                                                                                                                                  68   0        0        1        0          1        0        0        0          0        0        1        0          0        0        1        0          0        0        1        0          1          0          0            1      0      0        160   28      0          1          0            0      1      0        1         0         0           0        1        0           -1.550606\n",
      "                                                                                                                                                                                                                                                                                                                                                                                                                                                                                                                                                                                                                                        ...   \n",
      "1         0         0         0           1        0        0        0          1        0        0        0          0           0          1           0           0           0          1        0        0        0          92   0        0        1        0          1        0        0        0          0        0        1        0          0        0        1        0          1        0        0        0          0          1          0            0      1      0        145   12      1          0          0            0      1      0        1         0         0           1        0        0           -1.558125\n",
      "                                                                                                                                                                                                                                                                                                                            1        0        0          0        0        1        0          0        1        0        0          0          1          0            1      0      0        140   33      1          0          0            0      1      0        1         0         0           1        0        0           -1.461280\n",
      "                                                                                                                                                                                                                                  93   0        0        1        0          1        0        0        0          0        0        1        0          0        0        1        0          1        0        0        0          0          1          0            1      0      0        180   4       0          1          0            0      1      0        1         0         0           1        0        0           -1.812348\n",
      "                                                                                                                                                                                                                                       1        0        0        0          1        0        0        0          0        0        1        0          0        0        1        0          1        0        0        0          1          0          0            1      0      0        170   24      0          1          0            0      1      0        1         0         0           1        0        0           -1.600400\n",
      "                                                                                                                                                                                                                                  95   0        0        1        0          1        0        0        0          0        0        1        0          0        0        1        0          1        0        0        0          0          1          0            1      0      0        200   7       1          0          0            0      1      0        1         0         0           0        1        0           -1.631155\n",
      "Name: mu_0, Length: 7264, dtype: float64\n"
     ]
    },
    {
     "name": "stdout",
     "output_type": "stream",
     "text": [
      "['RCONSC_D', 'RCONSC_F', 'RCONSC_U', 'RCONSC_nan', 'RDEF6_C', 'RDEF6_N', 'RDEF6_Y', 'RDEF6_nan', 'RDEF5_C', 'RDEF5_N', 'RDEF5_Y', 'RDEF5_nan', 'STYPE_LACS', 'STYPE_OTH', 'STYPE_PACS', 'STYPE_POCS', 'STYPE_TACS', 'STYPE_nan', 'RDEF4_C', 'RDEF4_N', 'RDEF4_Y', 'RDEF4_nan', 'AGE', 'RDEF3_C', 'RDEF3_N', 'RDEF3_Y', 'RDEF3_nan', 'RDEF7_C', 'RDEF7_N', 'RDEF7_Y', 'RDEF7_nan', 'RDEF1_C', 'RDEF1_N', 'RDEF1_Y', 'RDEF1_nan', 'RDEF2_C', 'RDEF2_N', 'RDEF2_Y', 'RDEF2_nan', 'RDEF8_C', 'RDEF8_N', 'RDEF8_Y', 'RDEF8_nan', 'RATRIAL_N', 'RATRIAL_Y', 'RATRIAL_nan', 'SEX_F', 'SEX_M', 'SEX_nan', 'RSBP', 'RDELAY', 'RVISINF_N', 'RVISINF_Y', 'RVISINF_nan', 'RCT_N', 'RCT_Y', 'RCT_nan', 'RSLEEP_N', 'RSLEEP_Y', 'RSLEEP_nan', 'RASP3_N', 'RASP3_Y', 'RASP3_nan', 'RHEP24_N', 'RHEP24_Y', 'RHEP24_nan']\n",
      "RCONSC_D  RCONSC_F  RCONSC_U  RCONSC_nan  RDEF6_C  RDEF6_N  RDEF6_Y  RDEF6_nan  RDEF5_C  RDEF5_N  RDEF5_Y  RDEF5_nan  STYPE_LACS  STYPE_OTH  STYPE_PACS  STYPE_POCS  STYPE_TACS  STYPE_nan  RDEF4_C  RDEF4_N  RDEF4_Y  RDEF4_nan  AGE  RDEF3_C  RDEF3_N  RDEF3_Y  RDEF3_nan  RDEF7_C  RDEF7_N  RDEF7_Y  RDEF7_nan  RDEF1_C  RDEF1_N  RDEF1_Y  RDEF1_nan  RDEF2_C  RDEF2_N  RDEF2_Y  RDEF2_nan  RDEF8_C  RDEF8_N  RDEF8_Y  RDEF8_nan  RATRIAL_N  RATRIAL_Y  RATRIAL_nan  SEX_F  SEX_M  SEX_nan  RSBP  RDELAY  RVISINF_N  RVISINF_Y  RVISINF_nan  RCT_N  RCT_Y  RCT_nan  RSLEEP_N  RSLEEP_Y  RSLEEP_nan  RASP3_N  RASP3_Y  RASP3_nan  RHEP24_N  RHEP24_Y  RHEP24_nan\n",
      "0         0         1         0           0        0        1        0          0        0        1        0          0           0          0           0           1           0          0        0        1        0          65   0        0        1        0          0        1        0        0          0        0        1        0          0        0        1        0          0        1        0        0          0          1          0            0      1      0        135   4       1          0          0            0      1      0        1         0         0           1        0        0          1         0         0            -1.110749\n",
      "                                                                                                                                                                                                                                  73   0        0        1        0          0        1        0        0          0        0        1        0          0        0        1        0          0        1        0        0          0          1          0            1      0      0        190   6       0          1          0            0      1      0        1         0         0           1        0        0          1         0         0            -1.486332\n",
      "                                                                                                                                                         1           0           0          0        0        1        0          54   1        0        0        0          0        0        1        0          1        0        0        0          1        0        0        0          0        1        0        0          1          0          0            0      1      0        145   3       0          1          0            0      1      0        1         0         0           1        0        0          1         0         0            -0.426186\n",
      "                                                                                1        0        0        0          0           0          0           0           1           0          0        0        1        0          53   0        0        1        0          0        1        0        0          0        0        1        0          0        0        1        0          0        0        1        0          1          0          0            0      1      0        185   3       1          0          0            0      1      0        1         0         0           0        1        0          1         0         0            -0.753847\n",
      "                                                                                                                                                                                                                                  68   0        0        1        0          1        0        0        0          0        0        1        0          0        0        1        0          0        0        1        0          1          0          0            1      0      0        160   28      0          1          0            0      1      0        1         0         0           0        1        0          1         0         0            -1.550606\n",
      "                                                                                                                                                                                                                                                                                                                                                                                                                                                                                                                                                                                                                                                                        ...   \n",
      "1         0         0         0           1        0        0        0          1        0        0        0          0           0          1           0           0           0          1        0        0        0          92   0        0        1        0          1        0        0        0          0        0        1        0          0        0        1        0          1        0        0        0          0          1          0            0      1      0        145   12      1          0          0            0      1      0        1         0         0           1        0        0          1         0         0            -1.558125\n",
      "                                                                                                                                                                                                                                                                                                                            1        0        0          0        0        1        0          0        1        0        0          0          1          0            1      0      0        140   33      1          0          0            0      1      0        1         0         0           1        0        0          1         0         0            -1.461280\n",
      "                                                                                                                                                                                                                                  93   0        0        1        0          1        0        0        0          0        0        1        0          0        0        1        0          1        0        0        0          0          1          0            1      0      0        180   4       0          1          0            0      1      0        1         0         0           1        0        0          1         0         0            -1.812348\n",
      "                                                                                                                                                                                                                                       1        0        0        0          1        0        0        0          0        0        1        0          0        0        1        0          1        0        0        0          1          0          0            1      0      0        170   24      0          1          0            0      1      0        1         0         0           1        0        0          1         0         0            -1.600400\n",
      "                                                                                                                                                                                                                                  95   0        0        1        0          1        0        0        0          0        0        1        0          0        0        1        0          1        0        0        0          0          1          0            1      0      0        200   7       1          0          0            0      1      0        1         0         0           0        1        0          1         0         0            -1.631155\n",
      "Name: mu_0, Length: 7264, dtype: float64\n"
     ]
    },
    {
     "data": {
      "text/plain": [
       "{'None': 0.07407178012311806,\n",
       " 'Conciousness': 0.06189294424196044,\n",
       " 'Visuospatial disorder': 0.04589284862430247,\n",
       " 'Hemianopia': 0.0448086394953794,\n",
       " 'Stroke subtype': 0.04157936602538362,\n",
       " 'Dysphasia': 0.03616206388201641,\n",
       " 'Age': 0.030399693264333828,\n",
       " 'Leg/foot deficit': 0.01735931367049705,\n",
       " 'Brainstem/cerebellar signs': 0.015701806801462798,\n",
       " 'Face deficit': 0.010520415476331655,\n",
       " 'Arm/hand deficit': 0.009262577648394207,\n",
       " 'Other deficit': 0.008338152374960692,\n",
       " 'Atrial fibrillation': 0.004538801175955967,\n",
       " 'Sex': 0.0035299319249863723,\n",
       " 'Blood pressure': 0.0007231948665593589,\n",
       " 'Delay': 5.860412271241344e-05,\n",
       " 'Infact visible': 2.7452503207028855e-05,\n",
       " 'CT done': 0.0,\n",
       " 'Sleep symptoms': 0.0,\n",
       " 'Aspirin prior': 0.0,\n",
       " 'Heparin prior': 0.0}"
      ]
     },
     "execution_count": 65,
     "metadata": {},
     "output_type": "execute_result"
    }
   ],
   "source": [
    "regrets_cumulative = {}\n",
    "feature_group = []\n",
    "mu_0s_marginal = outcome_model.predict_mu_0s_marginal(df, df, [])\n",
    "T_TT = (mu_1s - mu_0s_marginal > 0).astype(int)\n",
    "V_TT = ((mu_1s - mu_0s) * T_TT).mean()\n",
    "R_TT = V_OPT - V_TT\n",
    "regrets_cumulative['None'] = R_TT\n",
    "for name in sorted_gamma_margs.keys():\n",
    "    feature_group += feature_groups[name]\n",
    "    print(feature_group)\n",
    "    mu_0s_marginal = outcome_model.predict_mu_0s_marginal(df, df, feature_group)\n",
    "    T_TT = (mu_1s - mu_0s_marginal > 0).astype(int)\n",
    "    V_TT = ((mu_1s - mu_0s) * T_TT).mean()\n",
    "    R_TT = V_OPT - V_TT\n",
    "    regrets_cumulative[name] = R_TT\n",
    "regrets_cumulative"
   ]
  },
  {
   "cell_type": "code",
   "execution_count": 80,
   "metadata": {},
   "outputs": [
    {
     "data": {
      "image/png": "[encoded data removed]",
      "text/plain": [
       "<Figure size 720x216 with 1 Axes>"
      ]
     },
     "metadata": {
      "needs_background": "light"
     },
     "output_type": "display_data"
    }
   ],
   "source": [
    "plt.figure(figsize = (10, 3))\n",
    "xlabels = list(regrets_cumulative.keys())\n",
    "for i in range(1,len(xlabels)):\n",
    "    xlabels[i] = '+ ' + xlabels[i]\n",
    "plt.bar(xlabels, regrets_cumulative.values())\n",
    "plt.bar('None', regrets_cumulative['None'], color='orange')\n",
    "plt.xticks(rotation=90)\n",
    "plt.tick_params(labelsize = 15)\n",
    "plt.savefig('plots/ist_regrets_cumul.pdf', format='pdf', bbox_inches = \"tight\")\n",
    "plt.show()"
   ]
  }
 ],
 "metadata": {
  "kernelspec": {
   "display_name": "Python 3",
   "language": "python",
   "name": "python3"
  },
  "language_info": {
   "codemirror_mode": {
    "name": "ipython",
    "version": 3
   },
   "file_extension": ".py",
   "mimetype": "text/x-python",
   "name": "python",
   "nbconvert_exporter": "python",
   "pygments_lexer": "ipython3",
   "version": "3.7.7"
  }
 },
 "nbformat": 4,
 "nbformat_minor": 4
}
